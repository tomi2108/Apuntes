{
 "cells": [
  {
   "cell_type": "markdown",
   "id": "328bd8df",
   "metadata": {},
   "source": [
    "# Grupos"
   ]
  },
  {
   "cell_type": "markdown",
   "id": "8a7f41ee",
   "metadata": {},
   "source": [
    "## Operaciones"
   ]
  },
  {
   "cell_type": "markdown",
   "id": "e67f17bf",
   "metadata": {},
   "source": [
    "### Cerrada\n",
    "\n",
    "Una operación $*$ es cerrada en un conjuto si el resultado de operar dos elemntos es siempre un elemento del mismo conjunto."
   ]
  },
  {
   "cell_type": "markdown",
   "id": "2172fb37",
   "metadata": {},
   "source": [
    "$∀ x, y ∈ A : x * y ∈ A$ "
   ]
  },
  {
   "cell_type": "markdown",
   "id": "44675e81",
   "metadata": {},
   "source": [
    "A las operaciones cerradas tambien se las llama leyes de composición interna."
   ]
  },
  {
   "cell_type": "markdown",
   "id": "972ff4e7",
   "metadata": {},
   "source": [
    "La tabla debe contener solo elementos del conjunto."
   ]
  },
  {
   "cell_type": "markdown",
   "id": "209f2e12",
   "metadata": {},
   "source": [
    "### Asociativa"
   ]
  },
  {
   "cell_type": "markdown",
   "id": "9b403073",
   "metadata": {},
   "source": [
    "Se dice que una operacion $*$ es asociativa si:"
   ]
  },
  {
   "cell_type": "markdown",
   "id": "2e3d1c33",
   "metadata": {},
   "source": [
    "$∀ a, b, c ∈ A : a * ( b * c ) = ( a * b ) * c $"
   ]
  },
  {
   "cell_type": "markdown",
   "id": "72cf33dc",
   "metadata": {},
   "source": [
    "Se pueden cambiar los parentesis de lugar sin que ello afecte al resultado."
   ]
  },
  {
   "cell_type": "markdown",
   "id": "c4cb4666",
   "metadata": {},
   "source": [
    "No se puede hacer a simple vista viendo la tabla de operación"
   ]
  },
  {
   "cell_type": "markdown",
   "id": "ade27b26",
   "metadata": {},
   "source": [
    "### Elemento neutro"
   ]
  },
  {
   "cell_type": "markdown",
   "id": "28605a3e",
   "metadata": {},
   "source": [
    "Se dice que una operación $*$ tiene elemento neutro o identidad si:"
   ]
  },
  {
   "cell_type": "markdown",
   "id": "d633c449",
   "metadata": {},
   "source": [
    "$ ∃ e ∈ A : ∀ a ∈ A : e * a = a * e = a $"
   ]
  },
  {
   "cell_type": "markdown",
   "id": "190433e3",
   "metadata": {},
   "source": [
    "O sea que el elemento neutro de una operación cerrada es aquel que al estar operado con cualquier otro no afecta el resultado."
   ]
  },
  {
   "cell_type": "markdown",
   "id": "c4f80a8f",
   "metadata": {},
   "source": [
    "La tabla debe contener una fila y una columna que repita los elementos en el mismo orden que están dispuestos en la tabla."
   ]
  },
  {
   "cell_type": "markdown",
   "id": "afa2d9c1",
   "metadata": {},
   "source": [
    "$\\hspace{1pt}$"
   ]
  },
  {
   "cell_type": "markdown",
   "id": "0d737527",
   "metadata": {},
   "source": [
    "### Elementos simetricos"
   ]
  },
  {
   "cell_type": "markdown",
   "id": "9f372616",
   "metadata": {},
   "source": [
    "Dado un elementro neutro $e$ el simetrico de un elemento $a$ se define:"
   ]
  },
  {
   "cell_type": "markdown",
   "id": "4f7bb898",
   "metadata": {},
   "source": [
    "$a’ ∈ A : a * a’ = a’ * a = e$"
   ]
  },
  {
   "cell_type": "markdown",
   "id": "b89d70f2",
   "metadata": {},
   "source": [
    "Si todos los elementos tienen simetrico se dice que $*$ tiene simetrico."
   ]
  },
  {
   "cell_type": "markdown",
   "id": "f14fca7a",
   "metadata": {},
   "source": [
    "En la tabla se busca el simetrico de un elemento buscando en su fila y columna al elemento neutro."
   ]
  },
  {
   "cell_type": "markdown",
   "id": "00ee430a",
   "metadata": {},
   "source": [
    "### Conmutativa"
   ]
  },
  {
   "cell_type": "markdown",
   "id": "74199e83",
   "metadata": {},
   "source": [
    "Se dice que una operación $*$ es conmutatica si:"
   ]
  },
  {
   "cell_type": "markdown",
   "id": "86d8d03a",
   "metadata": {},
   "source": [
    "$∀ a, b ∈ A: a * b = b * a$"
   ]
  },
  {
   "cell_type": "markdown",
   "id": "9a6dd824",
   "metadata": {},
   "source": [
    "La tabla debe ser simetrica respecto de su diagonal principal."
   ]
  },
  {
   "cell_type": "markdown",
   "id": "ed8c95ee",
   "metadata": {},
   "source": [
    "### Elementos idempotentes"
   ]
  },
  {
   "cell_type": "markdown",
   "id": "8b6c52d4",
   "metadata": {},
   "source": [
    "Dado un elemento $a$ se dice que es idempotente si:"
   ]
  },
  {
   "cell_type": "markdown",
   "id": "8bfb16ff",
   "metadata": {},
   "source": [
    "$a*a = a$"
   ]
  },
  {
   "cell_type": "markdown",
   "id": "ad5b49c4",
   "metadata": {},
   "source": [
    "Si se cumple para todos los elementos del conjunto se dice que $*$ es idempotente."
   ]
  },
  {
   "cell_type": "markdown",
   "id": "0237e7d1",
   "metadata": {},
   "source": [
    "En la tabla la diagonal principal debe contener los mismos elementos dispuestos en el mismo orden de la tabla."
   ]
  },
  {
   "cell_type": "markdown",
   "id": "0c5e0bb6",
   "metadata": {},
   "source": [
    "### Elemento absorbente"
   ]
  },
  {
   "cell_type": "markdown",
   "id": "22b9eac8",
   "metadata": {},
   "source": [
    "Dado un elementro $b$ se dice que $b$ es absorbente si:"
   ]
  },
  {
   "cell_type": "markdown",
   "id": "b0fdc419",
   "metadata": {},
   "source": [
    "$∀ a ∈ A: b * a = a * b = b $"
   ]
  },
  {
   "cell_type": "markdown",
   "id": "a364b93a",
   "metadata": {},
   "source": [
    "Es decir que si existe un elemento absorbente, cuando se opera cualquier elemento $a$ el resultado siempre es $b$."
   ]
  },
  {
   "cell_type": "markdown",
   "id": "62b460fb",
   "metadata": {},
   "source": [
    "En la tabla, la fila y columna de dicho elemento tiene a ese elemento en todos los lugares."
   ]
  },
  {
   "cell_type": "markdown",
   "id": "a4bf0407",
   "metadata": {},
   "source": [
    "## Distributividad de dos operaciones binarias"
   ]
  },
  {
   "cell_type": "markdown",
   "id": "db4ee955",
   "metadata": {},
   "source": [
    "Sean $*$  y $•$ dos operaciones cerradas definidas en el mismo conjunto $A$. "
   ]
  },
  {
   "cell_type": "markdown",
   "id": "4d2efd5e",
   "metadata": {},
   "source": [
    "Se dice que $•$ es distributiva respecto de $*$ si y solo si:"
   ]
  },
  {
   "cell_type": "markdown",
   "id": "d63efd76",
   "metadata": {},
   "source": [
    "$$∀ a, b, c ∈ A : a • ( b * c ) = ( a • b ) * ( a • c )\\hspace{10pt}\\text{(Distributiva a izquierda)} \\\\       \n",
    "∀ a, b, c ∈ A : ( b * c ) • a = ( b • a ) * ( c • a )  \\hspace{10pt}\\text{(Distributiva a derecha)  }   $$"
   ]
  },
  {
   "cell_type": "markdown",
   "id": "3aa4f0fd",
   "metadata": {},
   "source": [
    "## Grupos y semigrupos"
   ]
  },
  {
   "attachments": {
    "imagen.png": {
     "image/png": "[encoded data removed]"
    }
   },
   "cell_type": "markdown",
   "id": "1d8daf9c",
   "metadata": {},
   "source": [
    "![imagen.png](attachment:imagen.png)"
   ]
  },
  {
   "cell_type": "markdown",
   "id": "57803d82",
   "metadata": {},
   "source": [
    "### Propiedades de un grupo"
   ]
  },
  {
   "cell_type": "markdown",
   "id": "644d5792",
   "metadata": {},
   "source": [
    "1. El elemento neutro $e$ es unico.\n",
    "2. El elemento neutro es su propio simétrico $e' = e$\n",
    "3. Propiedad involutiva del simétrico: $\\forall a \\in A: (a')' = a$\n",
    "4. El simetrico de un elemento es único.\n",
    "5. $\\forall a,b \\in A: (a*b) ' = b'*a'$\n",
    "6. Las ecuaciones $a*x=b$ y $x*a=b$ tienen solución unica.\n",
    "7. El único elemento idempotente es el elemento neutro.\n",
    "8. $\\forall a,b \\in A: a' = b \\Rightarrow b'= a$"
   ]
  },
  {
   "cell_type": "markdown",
   "id": "9c3ecc15",
   "metadata": {},
   "source": [
    "## Elementos regulares"
   ]
  },
  {
   "cell_type": "markdown",
   "id": "503c735f",
   "metadata": {},
   "source": [
    "Sea $(A ; *)$ un semigrupo con neutro. "
   ]
  },
  {
   "cell_type": "markdown",
   "id": "f37285bd",
   "metadata": {},
   "source": [
    "El elemento $ a ∈ A$ es regular a izquierda $⇔ a * x = a *$ y  entonces $ x = y$  \n",
    "\n",
    "El elemento $a ∈ A$ es regular a derecha $⇔ x * a = y * a$  entonces  $ x = y$\n",
    "\n",
    "El elemento $a ∈ A$ es regular si es regular a izquierda y a derecha."
   ]
  },
  {
   "cell_type": "markdown",
   "id": "53266681",
   "metadata": {},
   "source": [
    "Es decir: Los elementos regulares son los cancelables, o sea los que se pueden suprimir al estar operados en ambos miembros de una igualdad."
   ]
  },
  {
   "cell_type": "markdown",
   "id": "ad17e4c2",
   "metadata": {},
   "source": [
    "## Inversibles de un semigrupo"
   ]
  },
  {
   "cell_type": "markdown",
   "id": "4092f89a",
   "metadata": {},
   "source": [
    "Sea $(A ; *)$ un semigrupo con neutro. El conjunto de inversibles de $A$ es: \n",
    "$INV (A) = \\{ a ∈ A \\;\\;/\\;\\; a’ ∈ A \\}$ "
   ]
  },
  {
   "cell_type": "markdown",
   "id": "cd75c847",
   "metadata": {},
   "source": [
    "O sea, es el conjunto de todos los elementos que tienen simétrico en el conjunto $A$ respecto de la operación $*$."
   ]
  },
  {
   "cell_type": "markdown",
   "id": "06561dda",
   "metadata": {},
   "source": [
    "## Subgrupos"
   ]
  },
  {
   "cell_type": "markdown",
   "id": "01a92f76",
   "metadata": {},
   "source": [
    "Sea $(G ; *)$ un grupo  y sea  $H ≠∅$  $H ⊆ G$. \n",
    "\n",
    "Si $(H ; *) $ es grupo entonces $H$ es subgrupo de $G$. "
   ]
  },
  {
   "cell_type": "markdown",
   "id": "d5692bf3",
   "metadata": {},
   "source": [
    "En palabras, un subgrupo es un conjunto no vacío que está incluido en un grupo, y que en sí mismo también es grupo con la misma operación."
   ]
  },
  {
   "cell_type": "markdown",
   "id": "80787ca1",
   "metadata": {},
   "source": [
    "Sea $(G ; *)$ un grupo. \n",
    "$H$ es subgrupo de $G$ \n",
    "$⇔$  \n",
    "1) $H ≠∅$  \n",
    "\n",
    "2) $H ⊆ G$ \n",
    "\n",
    "3) $∀a,b ∈ H ⇒ a * b’∈ H $"
   ]
  },
  {
   "cell_type": "markdown",
   "id": "28bcff83",
   "metadata": {},
   "source": [
    "Si afirmamos que $H$ cumple las tres condiciones ya podremos afirmar que $H$ es subgrupo de $G$."
   ]
  },
  {
   "cell_type": "markdown",
   "id": "e2ff73cb",
   "metadata": {},
   "source": [
    "Si $H$ no cumple alguna de las tres condiciones ya podremos afirmar que $H$ NO es subgrupo de $G$."
   ]
  },
  {
   "cell_type": "markdown",
   "id": "6e6bef35",
   "metadata": {},
   "source": [
    "### Propiedad:"
   ]
  },
  {
   "cell_type": "markdown",
   "id": "ae812f47",
   "metadata": {},
   "source": [
    "Si $(G ; *)$ es un grupo y $H$ es un subconjunto **finito** no vacío, entonces $H$ es subgrupo de $G$ si y sólo si $*$ es \n",
    "cerrada en $H$."
   ]
  },
  {
   "cell_type": "markdown",
   "id": "9d1f2f3e",
   "metadata": {},
   "source": [
    "## Relaciones de congruencia"
   ]
  },
  {
   "cell_type": "markdown",
   "id": "7989548b",
   "metadata": {},
   "source": [
    "Sea $(G ; *)$ un semigrupo con neutro $e$. Sea $∼$ una relación de equivalencia en $G$. \n",
    "\n",
    "$∼$ es compatible a izquierda con $*$  $⇔ ∀a, b, x ∈ G : a ∼ b ⇒ x *a ∼ x *b$\n",
    "\n",
    "$∼$ es compatible a derecha con $* $ $⇔ ∀a, b, x ∈ G : a ∼ b ⇒ a *x ∼ b *x $\n",
    "\n",
    "La relación $∼$ es compatible con $*$ (o es de congruencia)$⇔$ es compatible a derecha y a izquierda."
   ]
  },
  {
   "cell_type": "markdown",
   "id": "a362176f",
   "metadata": {},
   "source": [
    "### Observaciones"
   ]
  },
  {
   "cell_type": "markdown",
   "id": "b6d2a157",
   "metadata": {},
   "source": [
    "1.  Las  relaciones  de  congruencia  generalizan  las  propiedades  de  la  congruencia  módulo  n  y  pueden  recibir  otros nombres como “compatible” respecto de la operación de grupo o “estable\".\n"
   ]
  },
  {
   "cell_type": "markdown",
   "id": "c270694a",
   "metadata": {},
   "source": [
    "2. Una forma equivalente de definir la compatibilidad es: \n",
    "\n",
    "La relación $∼$ es compatible con $*$ $ ⇔∀a, b, c, d ∈ G : a ∼ b ∧ c ∼ d ⇒ a * c ∼ b * d$"
   ]
  },
  {
   "cell_type": "markdown",
   "id": "a34d35c4",
   "metadata": {},
   "source": [
    "## Teorema fundamental de compatibilidad"
   ]
  },
  {
   "cell_type": "markdown",
   "id": "bee00c2c",
   "metadata": {},
   "source": [
    "Sea $(G ;  ∗)$ un semigrupo con neutro $e$ y $∼$ una relación de equivalencia compatible con  $∗$   \n",
    "\n",
    "Entonces el conjunto cociente $(G/∼ ;  \\bar{∗})$ es un semigrupo con neutro, siendo la operación  $\\bar{∗}$ la siguiente:    \n",
    "\n",
    "$ \\bar{a}\\bar{∗}\\bar{b}  =  \\bar{a * b}$   \n",
    "\n",
    "\n",
    "Si $(G ;  ∗)$ es grupo entonces $(G/∼ ;  ∗)$ también es grupo. \n",
    "\n",
    "Si $(G ;  ∗)$ es abeliano entonces $(G/∼ ;  ∗)$ también es abeliano. "
   ]
  },
  {
   "cell_type": "markdown",
   "id": "81b6c67e",
   "metadata": {},
   "source": [
    "Este Teorema nos garantiza que si la relación de equivalencia es compatible, la estructura del conjunto cociente es \n",
    "la  misma  que  la  del  conjunto  original.  Se  “traspasa”  la  estructura  y  las  propiedades  estructurales  y  por  lo  tanto  \n",
    "resulta una herramienta muy útil en el momento de modelizar situaciones reales a resolver."
   ]
  },
  {
   "cell_type": "markdown",
   "id": "78403b5f",
   "metadata": {},
   "source": [
    "## Generadores, grupos cíclicos"
   ]
  },
  {
   "cell_type": "markdown",
   "id": "db4009a4",
   "metadata": {},
   "source": [
    "Sea  $(G  ;  *)$  un  grupo    y    $a  ∈  G$ .  Llamamos  Subgrupo  cíclico  de  $G$  generado  por  $a$  al  siguiente  \n",
    "conjunto: \n",
    "$< a > = \\{ a^n \\,\\,/\\,\\, n ∈ \\mathbb{Z} \\}$"
   ]
  },
  {
   "cell_type": "markdown",
   "id": "e454977b",
   "metadata": {},
   "source": [
    "### Aclaraciones:"
   ]
  },
  {
   "cell_type": "markdown",
   "id": "2ecf935d",
   "metadata": {},
   "source": [
    "$a^n$  significa  $a * a * a * .... * a $  ($n$ veces) \n",
    "\n",
    "$a^{-n}$ significa  $a^{-1} * a^{-1} * a^{-1} ... * a^{-1} $ ($n$ veces,  siendo $a^{-1}$ el simétrico de $a$)\n",
    "\n",
    "$a^0 = e $(elemento neutro)"
   ]
  },
  {
   "cell_type": "markdown",
   "id": "a295232f",
   "metadata": {},
   "source": [
    "Es decir el conjunto $< a > $ tiene a todos los elementos que se pueden obtener operando al elemento con sí mismo \n",
    "o con su simétrico. "
   ]
  },
  {
   "cell_type": "markdown",
   "id": "26b1cb50",
   "metadata": {},
   "source": [
    "Si $(G ; *)$ un grupo,  $a ∈ G$   y   $< a > = G$ entonces $a$ es generador del grupo $G$ y el  grupo $(G ; * )$ es \n",
    "cíclico porque  tiene al menos un elemento generador."
   ]
  },
  {
   "cell_type": "markdown",
   "id": "f0860d02",
   "metadata": {},
   "source": [
    "## Orden de un elemento y de un subgrupo"
   ]
  },
  {
   "cell_type": "markdown",
   "id": "da714fdd",
   "metadata": {},
   "source": [
    "Sea $(G ; *)$ un grupo  y  $a ∈ G$.\n",
    "\n",
    "El orden de un elemento es el cardinal del subgrupo que genera. \n",
    "El Orden de un subgrupo es el orden de su generador, o bien el cardinal del subgrupo. \n",
    " \n",
    "Si $|< a >|= n$   entonces se dice que a tiene orden finito $n$.\n",
    "\n",
    "Si $|< a >|= ∞ $  entonces se dice que a tiene orden infinito. "
   ]
  },
  {
   "cell_type": "markdown",
   "id": "3f3cba39",
   "metadata": {},
   "source": [
    "## Reticulo o Red de subgrupos"
   ]
  },
  {
   "cell_type": "markdown",
   "id": "48373cfb",
   "metadata": {},
   "source": [
    "Dado un grupo $(G ; *)$ con neutro $e4, entonces el conjunto de todos los subgrupos puede ser ordenado por la inclusión. \n",
    "\n",
    "Si $G$ es finito, entonces: $($subgrupos de $G ; ⊆)$ es una Red con primer elemento ,el subgrupo trivial, y con último elemento, el subgrupo impropio."
   ]
  },
  {
   "cell_type": "markdown",
   "id": "279ac4db",
   "metadata": {},
   "source": [
    "**Para tener en cuenta**: Si el grupo no es cíclico, además de los subgrupos generados por los elementos, hay \n",
    "que considerar al propio grupo y buscar si existen otros subgrupos no cíclicos."
   ]
  },
  {
   "cell_type": "markdown",
   "id": "add450ee",
   "metadata": {},
   "source": [
    "## Congruencia modulo un subgrupo"
   ]
  },
  {
   "cell_type": "markdown",
   "id": "e87630cf",
   "metadata": {},
   "source": [
    "Sea $(G ; *)$ un grupo  y  $H$ un subgrupo de $G$.\n",
    "Definimos la siguiente relación en $G$: \n",
    "\n",
    "$a$ es congruente a derecha con $b$ módulo $H ⇔ a * b’ ∈ H $\n",
    "\n",
    "Lo indicamos así:  $a ≡_d  b (H)$ \n",
    "\n",
    "Análogamente, definimos la relación: \n",
    "\n",
    "$a$ es congruente a izquierda con $b$ módulo $H ⇔ a’ * b ∈ H $\n",
    "\n",
    "Lo indicamos así:  $a ≡_i  b (H)$"
   ]
  },
  {
   "cell_type": "markdown",
   "id": "77033fdb",
   "metadata": {},
   "source": [
    "### Propiedades:"
   ]
  },
  {
   "cell_type": "markdown",
   "id": "245e535e",
   "metadata": {},
   "source": [
    "Si $(G ; *)$ es un grupo abeliano, entonces la congruencia a derecha coincide con la congruencia a izquierda"
   ]
  },
  {
   "cell_type": "markdown",
   "id": "e7d5e60c",
   "metadata": {},
   "source": [
    "La relación de congruencia módulo $n$ en $\\mathbb{Z}$ (estudiada anteriormente) es un caso particular de la congruencia \n",
    "módulo $H$, considerando $H = nZ = \\{ x ∈ \\mathbb{Z} \\;/\\; x = nk , k ∈ \\mathbb{Z}\\}$"
   ]
  },
  {
   "cell_type": "markdown",
   "id": "9087c88d",
   "metadata": {},
   "source": [
    "La congruencia módulo $H$ , tanto a derecha como a izquierda, es una relación de equivalencia."
   ]
  },
  {
   "cell_type": "markdown",
   "id": "04cb12d4",
   "metadata": {},
   "source": [
    "La clase de equivalencia de cualquier elemento $a$ de $G$ es: \n",
    "\n",
    "$\\bar{a_d} = H * a$  (en la relación de congruencia a derecha)\n",
    "\n",
    "$\\bar{a_i} = a * H $  (en la relación de congruencia a izquierda)"
   ]
  },
  {
   "cell_type": "markdown",
   "id": "b0f8a50d",
   "metadata": {},
   "source": [
    "$|H|=|a*H|=|H*a|$\n",
    "\n",
    "Es  decir,  todas  las  clases  de  equivalencia  producidas  por  la  congruencia  módulo  $H$(ya  sea  a  derecha  o izquierda) tienen la misma cantidad de elementos. \n",
    "Se las llama clases laterales o co-clases a derecha y a izquierda."
   ]
  },
  {
   "cell_type": "markdown",
   "id": "f1380cd4",
   "metadata": {},
   "source": [
    "### Indice de un subgrupo"
   ]
  },
  {
   "cell_type": "markdown",
   "id": "8a344c14",
   "metadata": {},
   "source": [
    "Sea $(G ; *)$ un grupo y $H$ un subgrupo de $G$. \n",
    "El índice de $H$ en $G$ es la cantidad de clases de equivalencia módulo $H$.  \n",
    "Se indica: $[ G : H ]$ "
   ]
  },
  {
   "cell_type": "markdown",
   "id": "a0f61a4e",
   "metadata": {},
   "source": [
    "### Teorema de Lagrange"
   ]
  },
  {
   "cell_type": "markdown",
   "id": "a11c68d1",
   "metadata": {},
   "source": [
    "Sea $(G ; *)$ un grupo de orden finito $n$ y $H$ un subgrupo de $G$. \n",
    "\n",
    "Entonces, el orden de $H$ divide al orden de $G$."
   ]
  },
  {
   "cell_type": "markdown",
   "id": "4d962483",
   "metadata": {},
   "source": [
    "### Subgrupo normal"
   ]
  },
  {
   "cell_type": "markdown",
   "id": "e179b901",
   "metadata": {},
   "source": [
    "Sea $(G ; *)$ un grupo con neutro $e$ y $H$ un subgrupo de $G$. \n",
    "\n",
    "$H$ es subgrupo normal $⇔$ las clases a derecha coinciden con las clases a izquierda."
   ]
  },
  {
   "cell_type": "markdown",
   "id": "76f0c75b",
   "metadata": {},
   "source": [
    "## Homomorfismos de Grupos"
   ]
  },
  {
   "cell_type": "markdown",
   "id": "70cc2d42",
   "metadata": {},
   "source": [
    "Sean $(G_1  ; *_1)$ y $(G_2 ;*_2)$ dos grupos con neutros $e_1$ y $e_2$ respectivamente \n",
    " \n",
    "$f: G_1 → G_2$ es homomorfismo $⇔$  $f$ es función y $∀a, b ∈ G_1: f( a *_1 b) = f(a) *_2 f(b) $"
   ]
  },
  {
   "cell_type": "markdown",
   "id": "7023e257",
   "metadata": {},
   "source": [
    "### Clasificación de homomorfismos"
   ]
  },
  {
   "cell_type": "markdown",
   "id": "38cae8c4",
   "metadata": {},
   "source": [
    "Sea $f : G_1 → G_2$ un homomorfismo de grupos: \n",
    "\n",
    "♦ Si $f$ es inyectiva, $f$ se llama monomorfismo \n",
    "\n",
    "♦ Si $f$ es sobreyectiva, $f$ se llama epimorfismo \n",
    "\n",
    "♦ Si $f$ es biyectiva, $f$ se llama isomorfismo \n",
    "\n",
    "♦ Si $G_1 = G_2$ , $f$ se llama endomorfismo \n",
    "\n",
    "♦ Si $G_1 = G_2$  y  $f$ es biyectiva, $f$ se llama automorfismo "
   ]
  },
  {
   "cell_type": "markdown",
   "id": "9249b1a8",
   "metadata": {},
   "source": [
    "### Imagen de un homomorfismo"
   ]
  },
  {
   "cell_type": "markdown",
   "id": "6d713913",
   "metadata": {},
   "source": [
    "Sea $f: G_1 → G_2$  un homomorfismo. Se define:  $Im(f) = \\{ y ∈ G_2 \\;/\\; ∃ x ∈ G_1 ∧ f(x) = y \\}$"
   ]
  },
  {
   "cell_type": "markdown",
   "id": "107f101c",
   "metadata": {},
   "source": [
    "### Preimagen o imagen recíproca"
   ]
  },
  {
   "cell_type": "markdown",
   "id": "2b1dc706",
   "metadata": {},
   "source": [
    "Sea $f : G_1 → G_2$ un homomorfismo y sea $B ⊆ G_2$.\n",
    "Se define: \n",
    "$f^{-1}(B) = \\{ x ∈ G_1  \\;/\\; f(x) ∈ B \\}$"
   ]
  },
  {
   "cell_type": "markdown",
   "id": "6c697b77",
   "metadata": {},
   "source": [
    "Es decir, son todos los elementos de $G_1$ que tienen como imagen algún elemento de $B$."
   ]
  },
  {
   "cell_type": "markdown",
   "id": "bc61831b",
   "metadata": {},
   "source": [
    "## Grupos isomorfos"
   ]
  },
  {
   "cell_type": "markdown",
   "id": "65ebf5f6",
   "metadata": {},
   "source": [
    "Sean $( G_1 ; *_1)$ y $(G_2 ; *_2)$ dos grupos. \n",
    "\n",
    "Diremos que son isomorfos si y solo si existe al menos un isomorfismo entre ellos. \n",
    "\n",
    "En es caso indicamos $G_1 ≈ G_2$"
   ]
  }
 ],
 "metadata": {
  "kernelspec": {
   "display_name": "Python 3",
   "language": "python",
   "name": "python3"
  },
  "language_info": {
   "codemirror_mode": {
    "name": "ipython",
    "version": 3
   },
   "file_extension": ".py",
   "mimetype": "text/x-python",
   "name": "python",
   "nbconvert_exporter": "python",
   "pygments_lexer": "ipython3",
   "version": "3.8.8"
  }
 },
 "nbformat": 4,
 "nbformat_minor": 5
}
