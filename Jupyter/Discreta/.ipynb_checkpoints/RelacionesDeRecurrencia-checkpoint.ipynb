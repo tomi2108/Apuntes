{
 "cells": [
  {
   "cell_type": "markdown",
   "id": "fca8b247",
   "metadata": {},
   "source": [
    "# Relaciones de recurrencia"
   ]
  },
  {
   "cell_type": "markdown",
   "id": "20d44b53",
   "metadata": {},
   "source": [
    "## Sucesiones"
   ]
  },
  {
   "cell_type": "markdown",
   "id": "a0eda146",
   "metadata": {},
   "source": [
    "Una sucesión es una función f: $\\mathbb{N} \\rightarrow \\mathbb{R} \\,\\,/\\,\\, \\forall n \\in \\mathbb{N}: f(n) = a_n$"
   ]
  },
  {
   "cell_type": "markdown",
   "id": "bc596833",
   "metadata": {},
   "source": [
    "Una sucesión recursiva es aquella en la que su termino general hace referencia a terminos anteriores."
   ]
  },
  {
   "cell_type": "markdown",
   "id": "80a7f575",
   "metadata": {},
   "source": [
    "Por ej: $a_n = 2 \\cdot a_{n-1}$ con $a_1 = 4$"
   ]
  },
  {
   "cell_type": "markdown",
   "id": "30193f6d",
   "metadata": {},
   "source": [
    "Si queremos saber ahora el valor del término $a_{102}$ no podemos ya que necesitos el $a_{101}$ y  para este el $a_{100}$, etc."
   ]
  },
  {
   "cell_type": "markdown",
   "id": "fc5ca2b0",
   "metadata": {},
   "source": [
    "A las sucesiones dadas en forma recurseiva se las llama **Relaciones o ecuaciones de recurrencia**: $a_n = f(a_1,a_2,\\text{...}\\,, a_{n-1})$"
   ]
  },
  {
   "cell_type": "markdown",
   "id": "45a9d97e",
   "metadata": {},
   "source": [
    "## Clasificacion de las relaciones de recurrencia"
   ]
  },
  {
   "cell_type": "markdown",
   "id": "fd659289",
   "metadata": {},
   "source": [
    "**Orden**: Es la mayor diferencia entre los subíndices de los elementos de la sucesion que figuran en la relacion de recurrencia. Es decir, el orden indica cuantos términos anteriores hay que conocer para obtener uno en particular."
   ]
  },
  {
   "cell_type": "markdown",
   "id": "7f03f850",
   "metadata": {},
   "source": [
    "**Grado**: Es el mayor exponente al que están elevados los elementos de la sucesion que figuran en la relación de recurrencia."
   ]
  },
  {
   "cell_type": "markdown",
   "id": "2ba17d79",
   "metadata": {},
   "source": [
    "**Ecuacion homogenea**: Al igual que las ecuaciones algebraicas, las homogéneas son las que no tienen terminos independientes; pero en este caso no necesariamente los términos independientes son constantes sino que todos aquellos en los que no figuran elementos de la sucesion. Por ej: $3n, 4, n^2$"
   ]
  },
  {
   "cell_type": "markdown",
   "id": "da03b54a",
   "metadata": {},
   "source": [
    "**Coeficientes constantes**: en estas ecuaciones ninguno de los coeficientes de los elementos de la sucesion depende de n. Por el contrario, si alguno depende de n, se dice que la ecuación tiene coeficientes variables."
   ]
  },
  {
   "cell_type": "markdown",
   "id": "a7468f1e",
   "metadata": {},
   "source": [
    "**Solo estudiaremos ecuaciones lineales, con coeficientes constantes, tanto de orden 1 como 2, homogéneas y no homogéneas**"
   ]
  },
  {
   "cell_type": "markdown",
   "id": "98b4ff78",
   "metadata": {},
   "source": [
    "## Homogéneas lineales de orden 1"
   ]
  },
  {
   "cell_type": "markdown",
   "id": "dac54ba4",
   "metadata": {},
   "source": [
    "$a_n = k \\cdot a_{n-1}$ con $k\\in \\mathbb{R}-\\{0\\}$"
   ]
  },
  {
   "cell_type": "markdown",
   "id": "6bc8538b",
   "metadata": {},
   "source": [
    "### Solución:"
   ]
  },
  {
   "cell_type": "markdown",
   "id": "88b8ccbc",
   "metadata": {},
   "source": [
    "$a_n = k^n \\cdot a_0$"
   ]
  },
  {
   "cell_type": "markdown",
   "id": "4d4e917a",
   "metadata": {},
   "source": [
    "### Demostración:"
   ]
  },
  {
   "cell_type": "markdown",
   "id": "f527df35",
   "metadata": {},
   "source": [
    "$p(n): \\,\\,a_n = k^n \\cdot a_0 \\;\\; \\forall n \\geq 0$"
   ]
  },
  {
   "cell_type": "markdown",
   "id": "351c4ecf",
   "metadata": {},
   "source": [
    "#### Paso base"
   ]
  },
  {
   "cell_type": "markdown",
   "id": "d1745795",
   "metadata": {},
   "source": [
    "$n=0: \\hspace{15pt} a_0 = k^0 \\cdot a_0 = a_0 $  entonces se cumple que $p(0)$ es V"
   ]
  },
  {
   "cell_type": "markdown",
   "id": "a6c78264",
   "metadata": {},
   "source": [
    "#### Paso inductivo:"
   ]
  },
  {
   "cell_type": "markdown",
   "id": "9ecfec84",
   "metadata": {},
   "source": [
    "Hip. ind: $n=h \\hspace{20pt} a_h=k^h \\cdot a_0$\n",
    "\n",
    "\n",
    "Tesis ind: $n=h+1 \\hspace{20pt} a_{h+1}=k^{h+1} \\cdot a_0$"
   ]
  },
  {
   "cell_type": "markdown",
   "id": "7960254a",
   "metadata": {},
   "source": [
    "#### Demostración"
   ]
  },
  {
   "cell_type": "markdown",
   "id": "8392112e",
   "metadata": {},
   "source": [
    "$a_{h+1} = k a_{h} = k k^h a_0 = k^{h+1} a_0$"
   ]
  },
  {
   "cell_type": "markdown",
   "id": "1309f612",
   "metadata": {},
   "source": [
    "Por lo tanto queda demostrado que $\\forall n \\in \\mathbb{N}_0: p(n)$ es verdadera"
   ]
  },
  {
   "cell_type": "markdown",
   "id": "678b4ce5",
   "metadata": {},
   "source": [
    "## Homogéneas lineales de orden 2"
   ]
  },
  {
   "cell_type": "markdown",
   "id": "1a5c9eaa",
   "metadata": {},
   "source": [
    "$c_n a_n + c_{n-1}a_{n-1}+ c_{n-2} a_{n-2} = 0 $"
   ]
  },
  {
   "cell_type": "markdown",
   "id": "9ad6f32b",
   "metadata": {},
   "source": [
    "Supongamos que $a_n = x^n$ es una solucion de la ecuacion."
   ]
  },
  {
   "cell_type": "markdown",
   "id": "106c2e01",
   "metadata": {},
   "source": [
    "$$c_n x^n + c_{n-1}x^{n-1}+ c_{n-2} x^{n-2} = 0 $$"
   ]
  },
  {
   "cell_type": "markdown",
   "id": "32b1b5c6",
   "metadata": {},
   "source": [
    "$$x^{n-2}\\cdot (c_n x^2 + c_{n-1}x + c_{n-2} ) = 0 $$"
   ]
  },
  {
   "cell_type": "markdown",
   "id": "14d35138",
   "metadata": {},
   "source": [
    "$c_n x^2 + c_{n-1}x + c_{n-2}$ es la ecuacion caracteristica y sus raíces pueden ser: reales y distintas, reales e iguales o complejas conjugadas"
   ]
  },
  {
   "cell_type": "markdown",
   "id": "14243ebf",
   "metadata": {},
   "source": [
    "Sean $r_1 $ y  $r_2$ las raices de la ecuacion caracteristica entonces la solución general será:"
   ]
  },
  {
   "cell_type": "markdown",
   "id": "93c87afa",
   "metadata": {},
   "source": [
    "$$\\begin{matrix}\n",
    "\\text{Reales y distintas} : a_n = k_1 \\cdot (r_1)^n + k_2 \\cdot (r_2)^n\\\\ \n",
    "\\text{Reales e iguales } : a_n = k_1 \\cdot (r_1)^n + k_2 \\cdot n\\cdot (r_2)^n\n",
    "\\end{matrix}$$"
   ]
  },
  {
   "cell_type": "markdown",
   "id": "e5b3ec4d",
   "metadata": {},
   "source": [
    "### Ej:"
   ]
  },
  {
   "cell_type": "markdown",
   "id": "48e042f5",
   "metadata": {},
   "source": [
    "Sea $a_n - 3 a_{n-1} + 2a_{n-2}= 0 \\hspace{15pt} \\text{con}\\,\\,  a_0 = 4 \\;\\;\\wedge a_1 = 7$"
   ]
  },
  {
   "cell_type": "markdown",
   "id": "7ddfa827",
   "metadata": {},
   "source": [
    "Escribimos la ecuación caracteristica y hallamos sus raices, luego armamos un sistema de ecuaciones con las condiciones iniciales y buscamos las constantes de la solucion general."
   ]
  },
  {
   "cell_type": "markdown",
   "id": "9adf0254",
   "metadata": {},
   "source": [
    "$$\\begin{matrix}\n",
    "x^2 -3x + 2 = 0 \\Rightarrow x=1 \\,\\,\\vee\\,\\, x=2 \\Rightarrow \\\\ \n",
    "a_n = k_1 + k_2\\cdot 2^n \\Rightarrow \\\\ \n",
    "a_0 = k_1 + k_2 = 4 \\,\\,\\wedge \\,\\, a_1 = k_1 + 2\\cdot k_2 =7 \\Rightarrow\\\\ \n",
    "k_1=1 \\,\\, \\wedge \\,\\, k_2=3 \\Rightarrow a_n = 1+3\\cdot 2^n\n",
    "\\end{matrix}$$"
   ]
  },
  {
   "cell_type": "markdown",
   "id": "432ca32d",
   "metadata": {},
   "source": [
    "## No homogéneas lineales de orden 1 "
   ]
  },
  {
   "cell_type": "markdown",
   "id": "d7eb0065",
   "metadata": {},
   "source": [
    "$c_n \\cdot a_n + c_{n-1} \\cdot a_{n-1} = f(n)$"
   ]
  },
  {
   "cell_type": "markdown",
   "id": "c91bd886",
   "metadata": {},
   "source": [
    "La solucion general está dada por la suma solución de la ecuacion homogénea asociada  y una solucion particular de la ecuacion dada."
   ]
  },
  {
   "cell_type": "markdown",
   "id": "ba3038bd",
   "metadata": {},
   "source": [
    "$a_n = a_{nH} + a_{nP}$"
   ]
  },
  {
   "cell_type": "markdown",
   "id": "72477b9a",
   "metadata": {},
   "source": [
    "**NOTA**: La solucion de la ecuacion homogénea asociada es la general, sin tener en cuenta las condiciones iniciales.\n",
    "\n",
    "La solución particular se plantea como función del mismo tipo que $f(n)$. Si no, se va multiplicando por $n$ sucesivamente hasta hallarla. \n",
    "\n",
    "Por ultimo se plantean condiciones iniciales para despejar las constantes. "
   ]
  },
  {
   "cell_type": "markdown",
   "id": "1876dd11",
   "metadata": {},
   "source": [
    "$\\hspace{5pt}$"
   ]
  },
  {
   "cell_type": "markdown",
   "id": "b948293a",
   "metadata": {},
   "source": [
    "$\\hspace{5pt}$"
   ]
  },
  {
   "cell_type": "markdown",
   "id": "1fd01d11",
   "metadata": {},
   "source": [
    "$\\hspace{5pt}$"
   ]
  },
  {
   "cell_type": "markdown",
   "id": "33e995f3",
   "metadata": {},
   "source": [
    "La siguiente tabla muestra de que tipo es probable que exista una solución particular de acuerdo a la forma del término independiente de la ecuación:\n",
    "\n",
    "$$\\begin{vmatrix}\n",
    "K(\\text{constante}) & B(\\text{constante})\\\\ \n",
    "K\\cdot n & B\\cdot n + C \\\\ \n",
    "K\\cdot n^2 & B \\cdot n^2 +C \\cdot n + D\\\\ \n",
    "K \\cdot n^t & \\text{Polinomio completo de grado}\\hspace{5pt} t\\\\ \n",
    "K \\cdot a^n & B \\cdot a^n  \n",
    "\\end{vmatrix}$$"
   ]
  },
  {
   "cell_type": "markdown",
   "id": "e4a0ad36",
   "metadata": {},
   "source": [
    "### Ej: "
   ]
  },
  {
   "cell_type": "markdown",
   "id": "fbe67aee",
   "metadata": {},
   "source": [
    "Resolver: $a_{n+1} = 2a_{n} + 1$ con $a_1 = 1$"
   ]
  },
  {
   "cell_type": "markdown",
   "id": "fda85692",
   "metadata": {},
   "source": [
    "Ecuación homogénea asociada: $a_{n+1} = 2a_n$ cuya solución general es:$a_{nH} = k \\cdot 2^n $ (sin tener en cuenta las condiciones iniciales)"
   ]
  },
  {
   "cell_type": "markdown",
   "id": "ad78d11d",
   "metadata": {},
   "source": [
    "Solución particular: como en este caso el término independiente es $1$, el planteo también es una constante $B$. Es decir supongo que $a_{nP} = B$ Reemplzo en la ecuacion origianl, para poder despejar el valor de $B$:"
   ]
  },
  {
   "cell_type": "markdown",
   "id": "df17aa31",
   "metadata": {},
   "source": [
    "$$a_{n+1}= 2a_n + 1 \\Rightarrow B = 2B + 1 \\Rightarrow B=-1 \\Rightarrow a_{nP} = -1$$"
   ]
  },
  {
   "cell_type": "markdown",
   "id": "78dccf9b",
   "metadata": {},
   "source": [
    "Formo la solución total: $a_n = a_{nH} + a_{nP} = k \\cdot 2^n -1$"
   ]
  },
  {
   "cell_type": "markdown",
   "id": "dace36c5",
   "metadata": {},
   "source": [
    "Recien ahora uso las condiciones inciales para hallar la constante $k$ $$1=k\\cdot 2 - 1 \\Rightarrow k=1$$ "
   ]
  },
  {
   "cell_type": "markdown",
   "id": "7ef3c38b",
   "metadata": {},
   "source": [
    "Por lo tanto $a_n = 2^n -1 $ es la solución particular pedida."
   ]
  },
  {
   "cell_type": "markdown",
   "id": "ef42b508",
   "metadata": {},
   "source": [
    "## No homogéneas lineales de orden 2"
   ]
  },
  {
   "cell_type": "markdown",
   "id": "a49b0b4c",
   "metadata": {},
   "source": [
    "$c_n \\cdot a_n + c_{n-1} \\cdot a_{n-1}+ c_{n-2} \\cdot a_{n-2}  = f(n)$"
   ]
  },
  {
   "cell_type": "markdown",
   "id": "49b0b0de",
   "metadata": {},
   "source": [
    "$a_n = a_{nH} + a_{nP}$"
   ]
  },
  {
   "cell_type": "markdown",
   "id": "208ba5cb",
   "metadata": {},
   "source": [
    "### Ej:"
   ]
  },
  {
   "cell_type": "markdown",
   "id": "0474ac42",
   "metadata": {},
   "source": [
    "Resolver: $a_{n+2} - 4a_{n+1} +3a_n = -2 \\hspace{15pt} \\text{con}\\hspace{15pt} a_0 = 7 \\,\\,\\wedge\\,\\, a_1 = 12$"
   ]
  },
  {
   "cell_type": "markdown",
   "id": "a99dee79",
   "metadata": {},
   "source": [
    "Vamos a hallar la solución general de la homogenea asociada. Para ello planteamos la ecuacion caracteristica."
   ]
  },
  {
   "cell_type": "markdown",
   "id": "2250f96a",
   "metadata": {},
   "source": [
    "$x^2 - 4x + 3 = 0 \\Rightarrow x = 1 \\; \\vee \\; x=3 \\Rightarrow a_{nH} = k_1 \\cdot 1^n + k_2 \\cdot 3^n = k_1 + k_2 \\cdot 3^n$"
   ]
  },
  {
   "cell_type": "markdown",
   "id": "ecb5f654",
   "metadata": {},
   "source": [
    "Buscamos una solucion particular: Para ello proponemos una constante $B$ y reemplazamos en la ecuacion original."
   ]
  },
  {
   "cell_type": "markdown",
   "id": "246e204a",
   "metadata": {},
   "source": [
    "$B-4B+3B = -2 \\Rightarrow 0=-2$ ABSURDO"
   ]
  },
  {
   "cell_type": "markdown",
   "id": "17d766bb",
   "metadata": {},
   "source": [
    "Entonces proponemos $a_{nP} = B\\cdot n$ y reemplazamos en la ecuacion original."
   ]
  },
  {
   "cell_type": "markdown",
   "id": "72f40764",
   "metadata": {},
   "source": [
    "$ B\\cdot(n+2)-4B\\cdot(n+1)+3B\\cdot n = -2 \\Rightarrow B \\cdot n + 2 B-4B\\cdot  n -4B +3B\\cdot n = -2 \\Rightarrow -2B = -2 \\Rightarrow B=1 $"
   ]
  },
  {
   "cell_type": "markdown",
   "id": "71cc7538",
   "metadata": {},
   "source": [
    "Entonces: $a_{nP} = 1\\cdot n = n$"
   ]
  },
  {
   "cell_type": "markdown",
   "id": "5cd47d36",
   "metadata": {},
   "source": [
    "Aramamos la solución total: $a_n = a_{nH} + a_{nP} = k_1 + k_2 \\cdot 3^n + n$"
   ]
  },
  {
   "cell_type": "markdown",
   "id": "31dbff6a",
   "metadata": {},
   "source": [
    "Por ultimo planteamos las condiciones iniciales y buscamos la solución particular pedida."
   ]
  },
  {
   "cell_type": "markdown",
   "id": "b41956d7",
   "metadata": {},
   "source": [
    "$a_0 = 7 \\;\\; \\wedge \\;\\; a_1=12 \\Rightarrow k_1 + k_2 = 7 \\;\\;\\wedge \\;\\; k_1 + 3k_2 + 1 = 12 $"
   ]
  },
  {
   "cell_type": "markdown",
   "id": "a9ad2f69",
   "metadata": {},
   "source": [
    "Resolviendo queda: $k_1 = 5 \\;\\;\\wedge\\;\\; k_2 = 2$"
   ]
  },
  {
   "cell_type": "markdown",
   "id": "b211e421",
   "metadata": {},
   "source": [
    "Por lo tanto la solución pedida es: $5 + 2\\cdot 3^n + n$"
   ]
  }
 ],
 "metadata": {
  "kernelspec": {
   "display_name": "Python 3",
   "language": "python",
   "name": "python3"
  },
  "language_info": {
   "codemirror_mode": {
    "name": "ipython",
    "version": 3
   },
   "file_extension": ".py",
   "mimetype": "text/x-python",
   "name": "python",
   "nbconvert_exporter": "python",
   "pygments_lexer": "ipython3",
   "version": "3.8.8"
  }
 },
 "nbformat": 4,
 "nbformat_minor": 5
}
