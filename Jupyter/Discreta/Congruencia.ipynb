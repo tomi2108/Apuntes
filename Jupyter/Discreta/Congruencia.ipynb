{
 "cells": [
  {
   "cell_type": "markdown",
   "id": "885a4725",
   "metadata": {},
   "source": [
    "# Congruencia"
   ]
  },
  {
   "cell_type": "markdown",
   "id": "61e7b7a2",
   "metadata": {},
   "source": [
    "$$a R b \\Leftrightarrow a\\equiv b(n) \\Leftrightarrow n|a-b$$"
   ]
  },
  {
   "cell_type": "markdown",
   "id": "4c5c2f79",
   "metadata": {},
   "source": [
    "La congruencia en modulo n es una relación de equivalencia, por lo tanto es **reflexiva, simétrica y transitiva**"
   ]
  },
  {
   "cell_type": "markdown",
   "id": "5ed5ea0f",
   "metadata": {},
   "source": [
    "Por ser una clase de equivalencia genera una partición en el cojunto."
   ]
  },
  {
   "cell_type": "markdown",
   "id": "15c6f6f9",
   "metadata": {},
   "source": [
    "Clases de equivalencia: $$\\bar{x} : \\{y\\in \\mathbb{Z} / y=nk+x \\,\\,\\text{con}\\,\\, k \\in \\mathbb{Z}\\}$$"
   ]
  },
  {
   "cell_type": "markdown",
   "id": "16b582ff",
   "metadata": {},
   "source": [
    "Es decir, en la clase de $x$ están todos los enteros cuyo resto al dividir por $n$ es $x$."
   ]
  },
  {
   "cell_type": "markdown",
   "id": "a2e86834",
   "metadata": {},
   "source": [
    "Conjunto cociente: $$Z_n = \\{\\bar{0},\\bar{1}, \\bar{2},\\cdots ,\\bar{n-1}\\}$$"
   ]
  },
  {
   "cell_type": "markdown",
   "id": "da25fc09",
   "metadata": {},
   "source": [
    "Está formado por las clases residuales, son todos los restos posibles al dividir por $n$."
   ]
  },
  {
   "cell_type": "markdown",
   "id": "8940f4ab",
   "metadata": {},
   "source": [
    "### Propiedad"
   ]
  },
  {
   "cell_type": "markdown",
   "id": "58cfdf04",
   "metadata": {},
   "source": [
    "$$\\forall x,y \\in \\mathbb{Z}:\\;\\;x\\in \\bar{a}(n) \\,\\,\\wedge\\,\\,y\\in\\bar{b}(n) \\Rightarrow x+y \\in \\bar{a+b}(n)$$"
   ]
  },
  {
   "cell_type": "markdown",
   "id": "31af8b49",
   "metadata": {},
   "source": [
    "Es decir, al sumar dos elementos de clases de equivalencia no importa que elemento se tome de cada clase, el resultado de la operación siempre pertenece a la misma clase."
   ]
  },
  {
   "cell_type": "markdown",
   "id": "53324004",
   "metadata": {},
   "source": [
    "Lo mismo ocurre con el producto:"
   ]
  },
  {
   "cell_type": "markdown",
   "id": "37dd134a",
   "metadata": {},
   "source": [
    "$$\\forall x,y \\in \\mathbb{Z}:\\;\\;x\\in \\bar{a}(n) \\,\\,\\wedge\\,\\,y\\in\\bar{b}(n) \\Rightarrow x \\cdot y \\in \\bar{a\\cdot b}(n)$$"
   ]
  },
  {
   "cell_type": "markdown",
   "id": "ce6f415b",
   "metadata": {},
   "source": [
    "## Función de Euler"
   ]
  },
  {
   "cell_type": "markdown",
   "id": "41188ea6",
   "metadata": {},
   "source": [
    "$$\\varphi(n)= |\\{x\\in\\mathbb{N}/x\\leq n \\,\\, \\wedge \\,\\, (x,n)=1\\}|$$"
   ]
  },
  {
   "cell_type": "markdown",
   "id": "2cb0cdda",
   "metadata": {},
   "source": [
    "Esta función se aplica a los numeros enteros positivos, y nos da la cantidad de números menores o iguales al dado que son coprimos con dicho numero."
   ]
  },
  {
   "cell_type": "markdown",
   "id": "b1601b7e",
   "metadata": {},
   "source": [
    "### Propeidades de la funcion de Euler"
   ]
  },
  {
   "cell_type": "markdown",
   "id": "ff214ea2",
   "metadata": {},
   "source": [
    "1. Si p es un número primo, entonces: $$\\varphi(p)= p-1,$$"
   ]
  },
  {
   "cell_type": "markdown",
   "id": "deae69a2",
   "metadata": {},
   "source": [
    "2. Si $n$ es un numero natural cualquiera y $p$ es un numero primo: $$\\varphi(p^n)= p^{n-1}(p-1)$$"
   ]
  },
  {
   "cell_type": "markdown",
   "id": "387bddb4",
   "metadata": {},
   "source": [
    "3. Si $n,m \\in \\mathbb{N}$ y $m.c.d(n,m) = 1$ entonces: $$\\varphi(n\\cdot m) = \\varphi(n)  \\cdot \\varphi(m)$$"
   ]
  },
  {
   "cell_type": "markdown",
   "id": "b0363115",
   "metadata": {},
   "source": [
    "Para cualquier $n$: "
   ]
  },
  {
   "cell_type": "markdown",
   "id": "d6875969",
   "metadata": {},
   "source": [
    "$$\\varphi(n) = n\\prod_{p_i|n}(1-\\frac{1}{p_i}) $$"
   ]
  },
  {
   "cell_type": "markdown",
   "id": "90cec43d",
   "metadata": {},
   "source": [
    "Siendo $p_i$ los primos divisores de $n$."
   ]
  },
  {
   "cell_type": "markdown",
   "id": "b837ee77",
   "metadata": {},
   "source": [
    "## Pequeño teorema de Fermat"
   ]
  },
  {
   "cell_type": "markdown",
   "id": "c66d9b94",
   "metadata": {},
   "source": [
    "Si $p$ es primo  y $m.c.d(a,p) = 1$ entonces: $a^{p-1}\\equiv 1(p)$ o bien $a^p \\equiv a(p)$"
   ]
  },
  {
   "cell_type": "markdown",
   "id": "a723bc00",
   "metadata": {},
   "source": [
    "Este teorema se utiliza para investigar si un numero natural muy grande es o no primo. Si el numero dado fuera primo, con cualquier numero natural $a$ menor que $p$ debe cumplirse que $a^{p-1}\\equiv 1(p)$. Se va calculando con distintos valores de $a$. Si para algún cvalor de $a$ menor que $n$ no se cumple la congruencia entonces $n$ es compuesto."
   ]
  },
  {
   "cell_type": "markdown",
   "id": "bf44517f",
   "metadata": {},
   "source": [
    "Nosotros vamos a utilizarlo para hallar el resto de la división de un numero entero grando por un numero primo."
   ]
  },
  {
   "cell_type": "markdown",
   "id": "b430d734",
   "metadata": {},
   "source": [
    "### Ej:"
   ]
  },
  {
   "cell_type": "markdown",
   "id": "f9f5c5ed",
   "metadata": {},
   "source": [
    "Calculemos el resto de la division de $7^{122}$ por $11$."
   ]
  },
  {
   "cell_type": "markdown",
   "id": "bfd4da5e",
   "metadata": {},
   "source": [
    "Como $122 = 10 \\cdot 12 + 2 $, se tiene que:"
   ]
  },
  {
   "cell_type": "markdown",
   "id": "a4ec811c",
   "metadata": {},
   "source": [
    "$7^{122} = 7^{10 \\cdot 12 +2} = 7^{10\\cdot 12} \\cdot 7^2 = 7^{(11-1) \\cdot 12} \\cdot 7^2 = [7^{(11-1)}]^{12} \\cdot 7^2$"
   ]
  },
  {
   "cell_type": "markdown",
   "id": "e70fdb9d",
   "metadata": {},
   "source": [
    "Teniendo en cuenta que $a^{p-1}\\equiv 1(p)$ resulta $[7^{(11-1)}]\\equiv 1(11)$ entonces: $[7^{(11-1)}]^{12}\\equiv 1(11)$"
   ]
  },
  {
   "cell_type": "markdown",
   "id": "eb1e7321",
   "metadata": {},
   "source": [
    "Entonces: $7^{122} \\equiv 7^2(11) = 5$ "
   ]
  },
  {
   "cell_type": "markdown",
   "id": "b165c485",
   "metadata": {},
   "source": [
    "## Teorema de Euler Fermat"
   ]
  },
  {
   "cell_type": "markdown",
   "id": "fcb73ce2",
   "metadata": {},
   "source": [
    "Si $m.c.d(a,n) = 1 \\Rightarrow a^{\\varphi(n)} \\equiv 1(n)$"
   ]
  },
  {
   "cell_type": "markdown",
   "id": "e75940d8",
   "metadata": {},
   "source": [
    "### Ej:"
   ]
  },
  {
   "cell_type": "markdown",
   "id": "99ce7476",
   "metadata": {},
   "source": [
    "Calculemos el resto de dividir $8^{1791485}$ por $21$."
   ]
  },
  {
   "cell_type": "markdown",
   "id": "c5e77ae0",
   "metadata": {},
   "source": [
    "Como $21$ no es primo, utilizaremos el teorema de Eueler-Fermat, para ello, primero calculamos $\\varphi(21) = 12$"
   ]
  },
  {
   "cell_type": "markdown",
   "id": "46e1d092",
   "metadata": {},
   "source": [
    "Como: $8^{\\varphi(21)}\\equiv 1(21)$ entonces: $8^{12}\\equiv 1(21)$"
   ]
  },
  {
   "cell_type": "markdown",
   "id": "8e7d88ed",
   "metadata": {},
   "source": [
    "Para poder usar este resultado, decomponemos el numero $1791485$"
   ]
  },
  {
   "cell_type": "markdown",
   "id": "a0c436dd",
   "metadata": {},
   "source": [
    "$1791485 = 12\\cdot 149290 + 5 \\Rightarrow 8^{1791485} = 8^{12\\cdot 149290 + 5} = (8^{12})^{149290} \\cdot 8^5  $"
   ]
  },
  {
   "cell_type": "markdown",
   "id": "0a826855",
   "metadata": {},
   "source": [
    "Como $8^{12}\\equiv 1(21)$ entonces  $8^{1791485}\\equiv 1 \\cdot 8^5 (21) $"
   ]
  },
  {
   "cell_type": "markdown",
   "id": "420acb39",
   "metadata": {},
   "source": [
    "Y ya tenemos un nuúmero bastante mas chico, aunque lo podemos escribir por ejemplo: $8^5 = 8^2 \\cdot 8^2 \\cdot 8$ y como $8^2 = 64 \\equiv 1(21)\\Rightarrow 8^5 \\equiv  8 (21)$"
   ]
  },
  {
   "cell_type": "markdown",
   "id": "e88841ff",
   "metadata": {},
   "source": [
    "Y por lo tanto $8^{1791485}   \\equiv 8 (21)$ con lo cual el resto de dividir $8^{1791485}$ por $21$ es $8$"
   ]
  },
  {
   "cell_type": "markdown",
   "id": "4567253e",
   "metadata": {},
   "source": [
    "## Ecuaciones lineales de congruencia"
   ]
  },
  {
   "cell_type": "markdown",
   "id": "c5ee3647",
   "metadata": {},
   "source": [
    "Son de la forma $a\\cdot x \\equiv b(n)$ siendo $a,x,b$ enteros y $n$ natural."
   ]
  },
  {
   "cell_type": "markdown",
   "id": "0f342662",
   "metadata": {},
   "source": [
    "Si $x \\in \\mathbb{Z} $ es una solución de $a\\cdot x \\equiv b(n)$ entonces $x+kn$ también es una solución. Como son infintias soluciones consideramos, $0 \\leq x < n$ y las llamaremos soluciones principales. "
   ]
  },
  {
   "cell_type": "markdown",
   "id": "232dc519",
   "metadata": {},
   "source": [
    "**Las eucuaciones lineal de congruencia pueden tener una, mas de una o niguna solución en $Z_n$**"
   ]
  },
  {
   "cell_type": "markdown",
   "id": "eacace22",
   "metadata": {},
   "source": [
    "### Condición suficiente para que una ecuación de congruencia tenga solución"
   ]
  },
  {
   "cell_type": "markdown",
   "id": "9dac3f0e",
   "metadata": {},
   "source": [
    "Sea $a\\cdot x \\equiv b(n)$ Si $m.c.d(a,n) = 1$ entonces hay solución. Y la solución será: $x = a^{\\varphi(n)-1} \\cdot b$"
   ]
  },
  {
   "cell_type": "markdown",
   "id": "c7857154",
   "metadata": {},
   "source": [
    "### Condición necesaria y suficiente para que una ecuación de congruencia tenga solución"
   ]
  },
  {
   "cell_type": "markdown",
   "id": "1d457f5d",
   "metadata": {},
   "source": [
    "$a\\cdot x \\equiv b(n)$ admite solución $\\Leftrightarrow m.c.d(a,n)|b$  la cantidad de soluciones es $m.c.d (a,n)$ y difieren en $n$"
   ]
  },
  {
   "cell_type": "markdown",
   "id": "6804cbf7",
   "metadata": {},
   "source": [
    "## Propiedad"
   ]
  },
  {
   "cell_type": "markdown",
   "id": "256138d0",
   "metadata": {},
   "source": [
    "Si $a\\cdot c \\equiv b \\cdot c (n)$ y $m.c.d(c,n)  = 1$ entonces: $$a\\equiv b(n)$$"
   ]
  }
 ],
 "metadata": {
  "kernelspec": {
   "display_name": "Python 3",
   "language": "python",
   "name": "python3"
  },
  "language_info": {
   "codemirror_mode": {
    "name": "ipython",
    "version": 3
   },
   "file_extension": ".py",
   "mimetype": "text/x-python",
   "name": "python",
   "nbconvert_exporter": "python",
   "pygments_lexer": "ipython3",
   "version": "3.8.8"
  }
 },
 "nbformat": 4,
 "nbformat_minor": 5
}
