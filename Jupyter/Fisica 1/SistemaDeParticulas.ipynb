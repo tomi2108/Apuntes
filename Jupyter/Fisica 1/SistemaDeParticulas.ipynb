{
 "cells": [
  {
   "cell_type": "markdown",
   "id": "6e8d1591",
   "metadata": {},
   "source": [
    "# Sistema de particulas"
   ]
  },
  {
   "cell_type": "markdown",
   "id": "aacd7789",
   "metadata": {},
   "source": [
    "## Cinematica:"
   ]
  },
  {
   "cell_type": "markdown",
   "id": "6d2a8e89",
   "metadata": {},
   "source": [
    "### Centro de masa"
   ]
  },
  {
   "cell_type": "markdown",
   "id": "1d4f7133",
   "metadata": {},
   "source": [
    "Posición:"
   ]
  },
  {
   "cell_type": "markdown",
   "id": "c4fd4dfa",
   "metadata": {},
   "source": [
    "$$\\large\\begin{matrix}\n",
    "x_{cm}=\\frac{\\sum_{1}^n m_i\\cdot x_i}{M}\\\\ \n",
    "y_{cm}=\\frac{\\sum_{1}^n m_i\\cdot y_i}{M}\\\\ \n",
    "z_{cm}=\\frac{\\sum_{1}^n m_i\\cdot z_i}{M}\n",
    "\\end{matrix}$$"
   ]
  },
  {
   "cell_type": "markdown",
   "id": "fbe0acd0",
   "metadata": {},
   "source": [
    "Velocidad:"
   ]
  },
  {
   "cell_type": "markdown",
   "id": "bc5fb3c8",
   "metadata": {},
   "source": [
    "$$\\large\\begin{matrix}\n",
    "v_{x_{cm}}=\\frac{\\sum_{1}^n m_i\\cdot v_{x_i}}{M}\\\\ \n",
    "v_{y_{cm}}=\\frac{\\sum_{1}^n m_i\\cdot v_{y_i}}{M}\\\\ \n",
    "v_{z_{cm}}=\\frac{\\sum_{1}^n m_i\\cdot v_{z_i}}{M}\n",
    "\\end{matrix}$$"
   ]
  },
  {
   "cell_type": "markdown",
   "id": "2cbbc120",
   "metadata": {},
   "source": [
    "Aceleración:"
   ]
  },
  {
   "cell_type": "markdown",
   "id": "543952d8",
   "metadata": {},
   "source": [
    "$$\\large\\begin{matrix}\n",
    "a_{x_{cm}}=\\frac{\\sum_{1}^n m_i\\cdot a_{x_i}}{M}\\\\ \n",
    "a_{y_{cm}}=\\frac{\\sum_{1}^n m_i\\cdot a_{y_i}}{M}\\\\ \n",
    "a_{z_{cm}}=\\frac{\\sum_{1}^n m_i\\cdot a_{z_i}}{M}\n",
    "\\end{matrix}$$"
   ]
  },
  {
   "cell_type": "markdown",
   "id": "fd76eca1",
   "metadata": {},
   "source": [
    "Energía:"
   ]
  },
  {
   "cell_type": "markdown",
   "id": "3478f028",
   "metadata": {},
   "source": [
    "$$\\large E_{c_{sistema}} = \\sum E_{c_i} = \\sum \\frac{1}{2} m_i \\cdot v_i^2$$"
   ]
  },
  {
   "cell_type": "markdown",
   "id": "3b04b2f0",
   "metadata": {},
   "source": [
    "Esto es distinto a la energía cinetica del centro de masa:"
   ]
  },
  {
   "cell_type": "markdown",
   "id": "d0861c25",
   "metadata": {},
   "source": [
    "$$\\large E_{c_{cm}} = \\frac{1}{2} M \\cdot v_{cm}^2$$"
   ]
  },
  {
   "cell_type": "markdown",
   "id": "64292ae8",
   "metadata": {},
   "source": [
    "Cantidad de movimiento:"
   ]
  },
  {
   "cell_type": "markdown",
   "id": "b3336313",
   "metadata": {},
   "source": [
    "$$\\bar{p}_{sistema} = \\sum \\bar{p}_i = \\sum m_i\\cdot \\bar{v}_i$$"
   ]
  },
  {
   "cell_type": "markdown",
   "id": "6b17e79c",
   "metadata": {},
   "source": [
    "Esto es igual a calcular la cantidad de movimiento del centro de masa:"
   ]
  },
  {
   "cell_type": "markdown",
   "id": "f046e986",
   "metadata": {},
   "source": [
    "$$\\bar{p}_{cm} = M \\cdot \\bar{v}_{cm}$$"
   ]
  },
  {
   "cell_type": "markdown",
   "id": "1b14a7b9",
   "metadata": {},
   "source": [
    "## Dinamica:"
   ]
  },
  {
   "cell_type": "markdown",
   "id": "57e8ea41",
   "metadata": {},
   "source": [
    "$$\\large \\sum \\bar{F}_{exteriores} = M_{total} \\cdot  \\bar{a}_{cm}$$"
   ]
  },
  {
   "cell_type": "markdown",
   "id": "b903397f",
   "metadata": {},
   "source": [
    "## Teoremas"
   ]
  },
  {
   "cell_type": "markdown",
   "id": "fd4674f1",
   "metadata": {},
   "source": [
    "### Impulso y cantidad de movimiento"
   ]
  },
  {
   "cell_type": "markdown",
   "id": "066d6f22",
   "metadata": {},
   "source": [
    "$$\\large\\sum \\bar{J}_{F_{externas}\\Delta t} = \\sum \\Delta \\bar{p}_{i\\Delta t}=\\Delta \\bar{p}_{sistema \\Delta t} = \\Delta \\bar{p}_{cm\\Delta t}$$"
   ]
  },
  {
   "cell_type": "markdown",
   "id": "30ce56ee",
   "metadata": {},
   "source": [
    "Recordemos que $\\bar{J}_F = \\bar {F} \\cdot \\Delta t$"
   ]
  },
  {
   "cell_type": "markdown",
   "id": "86807eea",
   "metadata": {},
   "source": [
    "### Trabajo y energía"
   ]
  },
  {
   "cell_type": "markdown",
   "id": "889d9368",
   "metadata": {},
   "source": [
    "$$\\large\\sum W_{F_{\\text{Int y Ext}}A-B} = \\Delta E_{c_{sist}A-B}$$"
   ]
  },
  {
   "cell_type": "markdown",
   "id": "cf2a9151",
   "metadata": {},
   "source": [
    "$$\\large\\sum W_{F_{NC \\text{ Int y Ext}}A-B} = \\Delta E_{M_{sist}A-B}$$"
   ]
  },
  {
   "cell_type": "markdown",
   "id": "68a7b7e0",
   "metadata": {},
   "source": [
    "Recordemos que $W_{F} = \\bar{F} \\cdot \\bar{\\Delta r}$"
   ]
  },
  {
   "cell_type": "markdown",
   "id": "df13e497",
   "metadata": {},
   "source": [
    "### Momento cinetico e impulso de momentos"
   ]
  },
  {
   "cell_type": "markdown",
   "id": "14fbafb6",
   "metadata": {},
   "source": [
    "$$\\large\\sum \\bar{J}_{\\bar{M}_{\\bar{F_{ext}}}^o\\Delta t} = \\Delta \\bar{L}_{{sist}\\Delta t}^o$$"
   ]
  },
  {
   "cell_type": "markdown",
   "id": "d10ed682",
   "metadata": {},
   "source": [
    "La sumatoria de impulsos de momentos de fuerzas externas respecto de un punto $o$ en un lapso $\\Delta t$ es igual a la variación de momento cinetico del sistema respecto del punto $o$ en ese mismo $\\Delta t$"
   ]
  },
  {
   "cell_type": "markdown",
   "id": "e83d78ea",
   "metadata": {},
   "source": [
    "Recordemos que $\\bar{L} = \\bar{p} \\times \\bar{r}$ siendo $\\bar{r}$ un vector posición de la particula respecto a un punto $o$"
   ]
  },
  {
   "cell_type": "markdown",
   "id": "94178358",
   "metadata": {},
   "source": [
    "Y además que $\\bar{M}_F^o = \\bar{r} \\times \\bar{F}\\hspace{5pt}$ y $\\hspace{5pt}\\bar{J}_{M_F^o \\Delta t} = \\bar{M}_F^o \\cdot \\Delta t$"
   ]
  },
  {
   "cell_type": "markdown",
   "id": "8b735bab",
   "metadata": {},
   "source": [
    " ## Choques"
   ]
  },
  {
   "cell_type": "markdown",
   "id": "c20edeb6",
   "metadata": {},
   "source": [
    "### Elasticos (ideal)"
   ]
  },
  {
   "cell_type": "markdown",
   "id": "d118544b",
   "metadata": {},
   "source": [
    "$$\\Delta E_{c_{sist}} = 0$$"
   ]
  },
  {
   "cell_type": "markdown",
   "id": "a8dd2d32",
   "metadata": {},
   "source": [
    "### Explosivos (gana energía cinetica)"
   ]
  },
  {
   "cell_type": "markdown",
   "id": "c515a506",
   "metadata": {},
   "source": [
    "$$\\Delta E_{c_{sist}} > 0$$"
   ]
  },
  {
   "cell_type": "markdown",
   "id": "ec2c36dc",
   "metadata": {},
   "source": [
    "### Inelasticos (pierde energía cinetica)"
   ]
  },
  {
   "cell_type": "markdown",
   "id": "1f8ef207",
   "metadata": {},
   "source": [
    "$$\\Delta E_{c_{sist}} < 0$$ "
   ]
  },
  {
   "cell_type": "markdown",
   "id": "53251cc8",
   "metadata": {},
   "source": [
    "Además si los cuerpos permanecen pegados se llaman **Plasticos**"
   ]
  },
  {
   "cell_type": "markdown",
   "id": "ea5b8d15",
   "metadata": {},
   "source": [
    "### Coeficiente de restitución"
   ]
  },
  {
   "cell_type": "markdown",
   "id": "a488aa49",
   "metadata": {},
   "source": [
    "##### (choques unidimensionales)"
   ]
  },
  {
   "cell_type": "markdown",
   "id": "2eb7c76c",
   "metadata": {},
   "source": [
    "$$e = - \\frac{v'_2-v'_1}{v_2-v_1}$$"
   ]
  },
  {
   "cell_type": "markdown",
   "id": "728c39aa",
   "metadata": {},
   "source": [
    "Donde $v$ es la velocidad antes del choque y $v'$ despues del choque de dos cuerpos $1$ y $2$"
   ]
  },
  {
   "cell_type": "markdown",
   "id": "25c42ae1",
   "metadata": {},
   "source": [
    "$$\\begin{matrix}\n",
    "e = 1 \\hspace{10pt}\\text{En elasticos}\\\\ \n",
    "e = 0 \\hspace{10pt}\\text{En plasticos}\\\\ \n",
    "0<e <1 \\hspace{10pt}\\text{En inelasticos}\n",
    "\\end{matrix}$$"
   ]
  }
 ],
 "metadata": {
  "kernelspec": {
   "display_name": "Python 3 (ipykernel)",
   "language": "python",
   "name": "python3"
  },
  "language_info": {
   "codemirror_mode": {
    "name": "ipython",
    "version": 3
   },
   "file_extension": ".py",
   "mimetype": "text/x-python",
   "name": "python",
   "nbconvert_exporter": "python",
   "pygments_lexer": "ipython3",
   "version": "3.9.7"
  }
 },
 "nbformat": 4,
 "nbformat_minor": 5
}
