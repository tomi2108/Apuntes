{
 "cells": [
  {
   "cell_type": "markdown",
   "id": "f87340cc",
   "metadata": {},
   "source": [
    "# Integrales Triples"
   ]
  },
  {
   "cell_type": "markdown",
   "id": "744c139b",
   "metadata": {},
   "source": [
    "Sea un campo escalar $ f :D\\subset \\mathbb{R}^3\\rightarrow\\mathbb{R} \\hspace{5pt}  $  y acotado en $R = [a,b]\\times[c,d]\\times[e,f]$ "
   ]
  },
  {
   "cell_type": "markdown",
   "id": "5fc7840b",
   "metadata": {},
   "source": [
    "La integral triple se define: $$\\iiint_{R}f(x,y,z)dxdydz = \\int_{a}^{b}dx\\int_{c}^{d}dy\\int_{e}^{f}f(x,y,z) dz$$"
   ]
  },
  {
   "cell_type": "markdown",
   "id": "375696b7",
   "metadata": {},
   "source": [
    "Como en integrales dobles, no importa el orden de integración siempre y cuando se respeten los limites con sus variables correspondientes. Si $f$ es continua las 6 integrales iteradas son iguales."
   ]
  },
  {
   "cell_type": "markdown",
   "id": "1b39c415",
   "metadata": {},
   "source": [
    "El concepto de integrar con respecto a una variable manteniendo el resto fija se sigue manteniendo y es la manera adecuada para resolver este tipo de integrales."
   ]
  },
  {
   "cell_type": "markdown",
   "id": "a2bbdc98",
   "metadata": {},
   "source": [
    "### Relación con integrales dobles"
   ]
  },
  {
   "cell_type": "markdown",
   "id": "9e06a533",
   "metadata": {},
   "source": [
    "Si en el dominio de integración una variable depende de las otras dos la integral triple puede escribirse como una integral doble de otra intregal asi:"
   ]
  },
  {
   "cell_type": "markdown",
   "id": "c186c091",
   "metadata": {},
   "source": [
    "Sea $H=\\begin{Bmatrix}\n",
    "(x,y,z) \\in \\mathbb{R}^3 : (x,y)\\in D \\;\\;\\wedge\\;\\; \\varphi_1(x,y)\\leq z \\leq \\varphi_2(x,y)\n",
    "\\end{Bmatrix}$"
   ]
  },
  {
   "cell_type": "markdown",
   "id": "afd7829d",
   "metadata": {},
   "source": [
    "Entonces $H$ es un macizo proyectable en el plano $xy$ y su proyección es $D$."
   ]
  },
  {
   "cell_type": "markdown",
   "id": "746deda3",
   "metadata": {},
   "source": [
    "La integral queda de la siguiente forma: "
   ]
  },
  {
   "cell_type": "markdown",
   "id": "07e61a90",
   "metadata": {},
   "source": [
    "$$\\iiint_{R}f(x,y,z)dxdydz = \\iint_{D}dxdy\\left [\\int_{\\varphi_1(x,y)}^{\\varphi_2(x,y)}f(x,y,z)dz  \\right ]$$"
   ]
  },
  {
   "cell_type": "markdown",
   "id": "fc5b8760",
   "metadata": {},
   "source": [
    "## Ej:"
   ]
  },
  {
   "cell_type": "markdown",
   "id": "084c91a5",
   "metadata": {},
   "source": [
    "Sea $H=\\begin{Bmatrix}\n",
    "(x,y,z) \\in \\mathbb{R}^3 : \n",
    "0\\leq x \\leq 1 \\;,\\; \n",
    "0\\leq y \\leq 1 \\;, \\;\n",
    "0\\leq z \\leq x^2+y^2\n",
    "\\end{Bmatrix}$ Calcular $\\iiint_{H}f(x,y,z)dV $, siendo $f(x,y,z)=x$ y el volumen del solido $H$"
   ]
  },
  {
   "cell_type": "markdown",
   "id": "4c2308e8",
   "metadata": {},
   "source": [
    "Tenemos el campo escalar $f :D\\subset \\mathbb{R}^3 \\;\\;/\\;\\; f(x,y,z)=x$"
   ]
  },
  {
   "cell_type": "markdown",
   "id": "c7c71002",
   "metadata": {},
   "source": [
    "Y las funciones de z son:$$ \\left\\{\\begin{matrix}\n",
    "\\varphi_1(x,y)=0\\\\ \n",
    "\\varphi_2(x,y)=x^2+y^2\n",
    "\\end{matrix}\\right.$$"
   ]
  },
  {
   "cell_type": "markdown",
   "id": "823b5132",
   "metadata": {},
   "source": [
    "La integral queda:"
   ]
  },
  {
   "cell_type": "markdown",
   "id": "11480c08",
   "metadata": {},
   "source": [
    "$$\\iiint_{H}x \\cdot dx\\cdot dy\\cdot dz = \\int_{0}^{1}dx\\int_{0}^{1}dy\\int_{0}^{x^2+y^2}xdz$$"
   ]
  },
  {
   "cell_type": "markdown",
   "id": "c0f71c9c",
   "metadata": {},
   "source": [
    "Integramos una vez con respecto a $z$ y aplicamos Barrow:"
   ]
  },
  {
   "cell_type": "markdown",
   "id": "ba651ebe",
   "metadata": {},
   "source": [
    "$$\\int_{0}^{1}dx\\int_{0}^{1}(x^2+y^2)xdy = \\int_{0}^{1}dx\\int_{0}^{1}(x^3+y^2x)dy$$"
   ]
  },
  {
   "cell_type": "markdown",
   "id": "be434d6e",
   "metadata": {},
   "source": [
    "Integramos con respecto a $y$ y aplicamos Barrow:"
   ]
  },
  {
   "cell_type": "markdown",
   "id": "c3a4f73f",
   "metadata": {},
   "source": [
    "$$\\int_{0}^{1}dx\\left [\\left. x^3y+x\\frac{y^3}{3}\\right |_{0}^1 \\right ] = \\int_{0}^{1}(x^3+\\frac{x}{3})dx$$"
   ]
  },
  {
   "cell_type": "markdown",
   "id": "f42d62ac",
   "metadata": {},
   "source": [
    "Por ultimo, integramos con respecto a $x$:"
   ]
  },
  {
   "cell_type": "markdown",
   "id": "60b6d3d8",
   "metadata": {},
   "source": [
    "$$\\left.\\frac{x^4}{4}+\\frac{1}{3}\\cdot\\frac{x^2}{2}\\right|_{0}^{1} =\\frac{1}{4} + \\frac{1}{6} = \\frac{5}{12} $$"
   ]
  },
  {
   "cell_type": "markdown",
   "id": "df8d0a48",
   "metadata": {},
   "source": [
    "Ahora para calcular el volumen del macizo $H$ debemos tomar como campo escalar $f(x,y,z)=1$"
   ]
  },
  {
   "cell_type": "markdown",
   "id": "6aecda72",
   "metadata": {},
   "source": [
    "$$Vol(H)= \\iiint_{H}dx\\, dy\\, dz $$"
   ]
  },
  {
   "cell_type": "markdown",
   "id": "a5c39f76",
   "metadata": {},
   "source": [
    "Definimos la integral e integramos con respecto a $z$ :"
   ]
  },
  {
   "cell_type": "markdown",
   "id": "4339e40a",
   "metadata": {},
   "source": [
    "$$\\int_{0}^{1}dx\\int_{0}^{1}dy\\int_{0}^{x^2+y^2}dz = \n",
    "\\int_{0}^{1}dx\\int_{0}^{1}(x^2+y^2)dy$$"
   ]
  },
  {
   "cell_type": "markdown",
   "id": "1d48b5e8",
   "metadata": {},
   "source": [
    "Integramos con respecto a $y$ y luego con respecto a $x$ : "
   ]
  },
  {
   "cell_type": "markdown",
   "id": "91966952",
   "metadata": {},
   "source": [
    "$$\\left.\\int_{0}^{1}x^2y+\\frac{y^3}{3}\\right|_{0}^{1}dx = \n",
    "\\int_{0}^{1}(x^2+\\frac{1}{3})dx = \\left.\\frac{x^3}{3}+\\frac{1}{3}x \\right|_{0}^{1}=\\frac{2}{3}$$"
   ]
  },
  {
   "cell_type": "markdown",
   "id": "d6984293",
   "metadata": {},
   "source": [
    "## Cambio de variable"
   ]
  },
  {
   "cell_type": "markdown",
   "id": "3dcbd87e",
   "metadata": {},
   "source": [
    "### Coordenadas cilindricas"
   ]
  },
  {
   "cell_type": "markdown",
   "id": "bf79ace2",
   "metadata": {},
   "source": [
    "$$ \\left\\{\\begin{matrix}\n",
    "x=r\\cos \\theta\\\\ \n",
    "y=r\\sin\\theta\\\\ \n",
    "z=z\n",
    "\\end{matrix}\\right.\\hspace{15pt} r \\geq 0, \\;\\; 0\\leq \\theta \\leq 2\\pi , \\;\\; z \\in \\mathbb{R}$$ "
   ]
  },
  {
   "cell_type": "markdown",
   "id": "5183142a",
   "metadata": {},
   "source": [
    "$$\\bar{T}: H^* \\subset \\mathbb{R}^3 \\rightarrow H \\subset \\mathbb{R}^3 \\;\\;/\\;\\;\\bar{T}(r,\\theta,z) =  (r\\cos \\theta,r\\sin\\theta,z) $$"
   ]
  },
  {
   "cell_type": "markdown",
   "id": "8f6ec6ad",
   "metadata": {},
   "source": [
    "Para este cambio de variable $J_\\bar{T} = r$"
   ]
  },
  {
   "cell_type": "markdown",
   "id": "35730d21",
   "metadata": {},
   "source": [
    "$$\\iiint_{H}f(x,y,z) dx\\, dy\\, dz = \\iiint_{H^*}r\\cdot f(r\\cos \\theta,r\\sin\\theta,z) dr\\, d\\theta \\, dz $$ "
   ]
  },
  {
   "cell_type": "markdown",
   "id": "bc23de1b",
   "metadata": {},
   "source": [
    "### Coordenadas esfericas"
   ]
  },
  {
   "cell_type": "markdown",
   "id": "2993c727",
   "metadata": {},
   "source": [
    "$$ \\left\\{\\begin{matrix}\n",
    "x=\\rho \\sin \\varphi \\cos \\theta\\\\ \n",
    "y=\\rho \\sin \\varphi \\sin \\theta \\\\\n",
    "z=\\rho \\cos \\varphi \n",
    "\\end{matrix}\\right.\\hspace{15pt} \\rho \\geq 0, \\;\\; 0\\leq \\theta \\leq 2\\pi , \\;\\; 0 \\leq \\varphi \\leq \\pi$$ "
   ]
  },
  {
   "cell_type": "markdown",
   "id": "f02acdd1",
   "metadata": {},
   "source": [
    "$$\\bar{T}: H^* \\subset \\mathbb{R}^3 \\rightarrow H \\subset \\mathbb{R}^3 \\;\\;/\\;\\;\\bar{T}(\\rho,\\theta,\\varphi) =  (\\rho \\sin \\varphi \\cos \\theta,\\rho \\sin \\varphi \\sin \\theta,\\rho \\cos \\varphi ) $$"
   ]
  },
  {
   "cell_type": "markdown",
   "id": "8662ddf6",
   "metadata": {},
   "source": [
    "Para este cambio de variable $J_\\bar{T} = \\rho^2 \\sin \\varphi$"
   ]
  },
  {
   "cell_type": "markdown",
   "id": "6621f60c",
   "metadata": {},
   "source": [
    "$$\\iiint_{H}f(x,y,z) dx dy dz = \\iiint_{H^*}\\rho^2 \\sin \\varphi f(\\rho \\sin \\varphi \\cos \\theta,\\rho \\sin \\varphi \\sin \\theta,\\rho \\cos \\varphi ) d\\rho \\, d\\theta \\, d\\varphi $$ "
   ]
  }
 ],
 "metadata": {
  "kernelspec": {
   "display_name": "Python 3",
   "language": "python",
   "name": "python3"
  },
  "language_info": {
   "codemirror_mode": {
    "name": "ipython",
    "version": 3
   },
   "file_extension": ".py",
   "mimetype": "text/x-python",
   "name": "python",
   "nbconvert_exporter": "python",
   "pygments_lexer": "ipython3",
   "version": "3.8.8"
  }
 },
 "nbformat": 4,
 "nbformat_minor": 5
}
