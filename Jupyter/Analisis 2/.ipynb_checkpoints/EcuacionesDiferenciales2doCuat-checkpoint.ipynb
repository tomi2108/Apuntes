{
 "cells": [
  {
   "cell_type": "markdown",
   "id": "d91f08bd",
   "metadata": {},
   "source": [
    "# Ecuaciones diferenciales"
   ]
  },
  {
   "cell_type": "markdown",
   "id": "1f31b4c8",
   "metadata": {},
   "source": [
    "## Definición de campo escalar homogéneo"
   ]
  },
  {
   "cell_type": "markdown",
   "id": "ef227107",
   "metadata": {},
   "source": [
    "Un campo escalar $f : D \\subset \\mathbb{R}^n \\rightarrow \\mathbb{R} $ es homogéneo de grado $k$ si:"
   ]
  },
  {
   "cell_type": "markdown",
   "id": "39cf3624",
   "metadata": {},
   "source": [
    "$$\\forall \\bar{x} \\in D \\,\\,,\\,\\, \\forall t\\in \\mathbb{R}-\\{0\\} : f(t\\bar{x}) = t^kf(\\bar{x})$$"
   ]
  },
  {
   "cell_type": "markdown",
   "id": "99a31e56",
   "metadata": {},
   "source": [
    "Observemos que $f$ es homogéneo de grado $0$ si: $f(t\\bar{x}) = t^0f(\\bar{x}) = f(x)$"
   ]
  },
  {
   "cell_type": "markdown",
   "id": "1a8b7b47",
   "metadata": {},
   "source": [
    "### Ej 1:"
   ]
  },
  {
   "cell_type": "markdown",
   "id": "f0747b96",
   "metadata": {},
   "source": [
    "Sea $f :\\mathbb{R}^2 \\rightarrow \\mathbb{R}/f(x,y)=x^3 + xy^2$ determinar si el campo escalar es homogéneo y si lo es indicar el grado."
   ]
  },
  {
   "cell_type": "markdown",
   "id": "1f4e6c3c",
   "metadata": {},
   "source": [
    "$$f(tx,ty)=(tx)^3 + tx(ty)^2 = t^3x^3 + t^3xy^2= t^3(x^3+xy^2)= t^3f(x,y)$$"
   ]
  },
  {
   "cell_type": "markdown",
   "id": "4a006e81",
   "metadata": {},
   "source": [
    "Concluimos que $f$ es homogéneo de grado $3$."
   ]
  },
  {
   "cell_type": "markdown",
   "id": "e1f09eb1",
   "metadata": {},
   "source": [
    "### Ej 2:"
   ]
  },
  {
   "cell_type": "markdown",
   "id": "65797350",
   "metadata": {},
   "source": [
    "$f :D\\subset \\mathbb{R}^2 \\rightarrow \\mathbb{R}/f(x,y)=\\frac{3x^2}{y^2}$"
   ]
  },
  {
   "cell_type": "markdown",
   "id": "f8023f73",
   "metadata": {},
   "source": [
    "$$f(tx,ty)= \\frac{3(tx)^2}{(ty)^2}=\\frac{3t^2x^2}{t^2y^2}= \\frac{3x^2}{y^2}= f(x,y)$$"
   ]
  },
  {
   "cell_type": "markdown",
   "id": "f7afeb05",
   "metadata": {},
   "source": [
    "Por lo tanto concluimos que $f$ es homogéneo de grado 0."
   ]
  },
  {
   "cell_type": "markdown",
   "id": "a22ff32f",
   "metadata": {},
   "source": [
    "### Ej 3:"
   ]
  },
  {
   "cell_type": "markdown",
   "id": "e396f4b1",
   "metadata": {},
   "source": [
    "$f :D\\subset \\mathbb{R}^2 \\rightarrow \\mathbb{R}/f(x,y)=x+y+1$"
   ]
  },
  {
   "cell_type": "markdown",
   "id": "e613fbfc",
   "metadata": {},
   "source": [
    "$$f(tx,ty)=tx+ty+1=t(x+y)+1\\neq t^k f(x,y)$$"
   ]
  },
  {
   "cell_type": "markdown",
   "id": "fd46f874",
   "metadata": {},
   "source": [
    "Concluimos que $f$ no es homogéneo."
   ]
  },
  {
   "cell_type": "markdown",
   "id": "387a0727",
   "metadata": {},
   "source": [
    "## -------------------"
   ]
  },
  {
   "cell_type": "markdown",
   "id": "5b91653d",
   "metadata": {},
   "source": [
    "Una ecuación difrencial de primer orden $P(x,y)dx + Q(x,y)dy = 0$ es homogénea si las funciones $P$ y $Q$ son homogéneas del mismo grado."
   ]
  },
  {
   "cell_type": "markdown",
   "id": "b934d04d",
   "metadata": {},
   "source": [
    "### Ej:"
   ]
  },
  {
   "cell_type": "markdown",
   "id": "c464fe11",
   "metadata": {},
   "source": [
    "$xy^2dx+y^3dy = 0$ es una E.D homogénea porque $P(x,y)=xy^2$ es homogénea de grado 3 y $Q(x,y)=y^3$ también lo es: "
   ]
  },
  {
   "cell_type": "markdown",
   "id": "df5ac67a",
   "metadata": {},
   "source": [
    "$$\\begin{matrix}\n",
    "P(x,y)=xy^2\\\\ \n",
    "P(tx,ty)=tx(ty)^2=txt^2y^2=t^3xy^2=t^3P(x,y)\\\\ \n",
    "Q(x,y)=y^3\\\\ \n",
    "Q(tx,ty)=(ty)^3=t^3y^3=t^3Q(x,y)\n",
    "\\end{matrix}$$"
   ]
  },
  {
   "cell_type": "markdown",
   "id": "d7a5767d",
   "metadata": {},
   "source": [
    "De $P(x,y)dx + Q(x,y)dy = 0$ se puede deducir: $ Q(x,y)dy = -P(x,y)dx $ y despues: "
   ]
  },
  {
   "cell_type": "markdown",
   "id": "23cbc7e5",
   "metadata": {},
   "source": [
    "$$\\frac{dy}{dx} = \\frac{-P(x,y)}{Q(x,y)}$$"
   ]
  },
  {
   "cell_type": "markdown",
   "id": "1a709c79",
   "metadata": {},
   "source": [
    "$$y' = f(x,y)$$ Siendo una $f$ una función homogénea de grado 0."
   ]
  },
  {
   "cell_type": "markdown",
   "id": "8b08014b",
   "metadata": {},
   "source": [
    "Para resolver usamos uno de los siguientes cambios de variable $y=ux$ ó $x=uy$ vamos a tomar $y=ux$ o lo que es igual $\\frac{y}{x}=u$ con $x\\neq 0$  por que la función mas simple acompaña al $dy$."
   ]
  },
  {
   "cell_type": "markdown",
   "id": "efbc175c",
   "metadata": {},
   "source": [
    "$$\\begin{matrix}\n",
    "y=ux\\\\ \n",
    "y'=u'x+u\n",
    "\\end{matrix}$$"
   ]
  },
  {
   "cell_type": "markdown",
   "id": "81b5f448",
   "metadata": {},
   "source": [
    "Reemplazamos en la E.D :"
   ]
  },
  {
   "cell_type": "markdown",
   "id": "63a66c70",
   "metadata": {},
   "source": [
    "$$u'x+u=f(x,ux)= f[x(1,u)] = x^0f(1,u)=f(1,u)$$"
   ]
  },
  {
   "cell_type": "markdown",
   "id": "460c74d6",
   "metadata": {},
   "source": [
    "Podemos sacar la $x$ afuera de la función por ser $f$ una función homogénea de grado $0$."
   ]
  },
  {
   "cell_type": "markdown",
   "id": "0dd3b48b",
   "metadata": {},
   "source": [
    "$$\\begin{matrix}\n",
    "u'x=f(1,u)-u\\\\ \n",
    "\\frac{du}{dx}=f(1,u)-u \\\\\n",
    "\\frac{du}{f(1,u)-u}=\\frac{dx}{x}\\\\ \n",
    "\\int\\frac{du}{f(1,u)-u}=\\int\\frac{1}{x}dx\\\\ \n",
    "G(u)=\\ln|x|+c\\\\ \n",
    "G(\\frac{y}{x})=\\ln|x|+c\n",
    "\\end{matrix}$$"
   ]
  },
  {
   "cell_type": "markdown",
   "id": "1eb6bb77",
   "metadata": {},
   "source": [
    "## Ecuaciones diferenciales totales exactas(E.D.T.E)"
   ]
  },
  {
   "cell_type": "markdown",
   "id": "9ed49ad0",
   "metadata": {},
   "source": [
    "$P(x,y)dx + Q(x,y)dy = 0 \\hspace{5pt}(1) \\hspace{15pt} P,Q \\in C^1(D)$ con $D$ abierto y simplemente conexo."
   ]
  },
  {
   "cell_type": "markdown",
   "id": "e846c5c7",
   "metadata": {},
   "source": [
    "Si la expresión $P(x,y)dx + Q(x,y)dy = 0$ es el diferencial de algún campo escalar $\\phi : D \\subset \\mathbb{R}^2 \\rightarrow \\mathbb{R}\\;\\; /\\;\\; d\\phi(x,y)=0$"
   ]
  },
  {
   "cell_type": "markdown",
   "id": "8a0aacc3",
   "metadata": {},
   "source": [
    "$\\phi_x(x,y)dx + \\phi_y(x,y)dy=0$"
   ]
  },
  {
   "cell_type": "markdown",
   "id": "83a40924",
   "metadata": {},
   "source": [
    "Entonces $\\phi(x,y)=c$ es la s.g de la E.D."
   ]
  },
  {
   "cell_type": "markdown",
   "id": "499abee2",
   "metadata": {},
   "source": [
    "$\\left\\{\\begin{matrix}\n",
    "\\phi_x(x,y)=P(x,y)\\\\ \n",
    "\\phi_y(x,y)=Q(x,y)\n",
    "\\end{matrix}\\right. \\Rightarrow \\left\\{\\begin{matrix}\n",
    "\\phi_{xy}(x,y)=P_y(x,y)\\\\ \n",
    "\\phi_{yx}(x,y)=Q_x(x,y)\n",
    "\\end{matrix}\\right.$"
   ]
  },
  {
   "cell_type": "markdown",
   "id": "27f1b09a",
   "metadata": {},
   "source": [
    "Y por el teorema de Schwarz $P_y(x,y)=Q_x(x,y)$ que es el criterio de exactitud para determinar si $(1)$ es una E.D."
   ]
  },
  {
   "cell_type": "markdown",
   "id": "6a822b61",
   "metadata": {},
   "source": [
    "Recordemos que si $\\bar{f} : D \\subset \\mathbb{R}^2 \\rightarrow \\mathbb{R}^2 \\,\\,/\\,\\, \\bar{f}(x,y)=\\left ( P(x,y) , Q(x,y) \\right )$ es un campo de gradientes existe una función potencail $\\phi : D \\subset \\mathbb{R}^2 \\rightarrow \\mathbb{R} \\,\\,/\\,\\, \\nabla\\phi = \\bar{f}$ precisamente los conjuntos de nivel de la función potencial $\\phi$ serán la s.g de la E.D."
   ]
  },
  {
   "cell_type": "markdown",
   "id": "b3d8dbc6",
   "metadata": {},
   "source": [
    "### Ej:"
   ]
  },
  {
   "cell_type": "markdown",
   "id": "21f1df09",
   "metadata": {},
   "source": [
    "$$\\left\\{\\begin{matrix}\n",
    "xy^2 dx + (yx^2+1)dy = 0\\\\ \n",
    "y(1)=0\n",
    "\\end{matrix}\\right.$$"
   ]
  },
  {
   "cell_type": "markdown",
   "id": "87f91364",
   "metadata": {},
   "source": [
    "$$\\begin{matrix}\n",
    "P: \\mathbb{R}^2 \\rightarrow \\mathbb{R}\\,\\,/\\,\\, P(x,y)=xy^2\\\\ \n",
    "Q: \\mathbb{R}^2 \\rightarrow \\mathbb{R}\\,\\,/\\,\\, Q(x,y)=yx^2+1\n",
    "\\end{matrix} \\hspace{15pt} P,Q  \\in C^1(\\mathbb{R}^2)$$"
   ]
  },
  {
   "cell_type": "markdown",
   "id": "e0ca0359",
   "metadata": {},
   "source": [
    "Derivamos $P$ respecto de $y$ y $Q$ respecto de $x$."
   ]
  },
  {
   "cell_type": "markdown",
   "id": "8f6b82c7",
   "metadata": {},
   "source": [
    "$$\\begin{matrix}\n",
    "P_y(x,y)=2xy\\\\ \n",
    "Q_x(x,y)=2xy\n",
    "\\end{matrix} \\Rightarrow \\text{La E.D es del tipo T.E} $$"
   ]
  },
  {
   "cell_type": "markdown",
   "id": "649c740a",
   "metadata": {},
   "source": [
    "Entonces sabemos que existe una función que cumple: $$\\left\\{\\begin{matrix}\n",
    "\\phi_x(x,y)=xy^2\\hspace{15pt}(1)\\\\ \n",
    "\\phi_y(x,y)=yx^2+1\\hspace{15pt}(2)\n",
    "\\end{matrix}\\right.$$"
   ]
  },
  {
   "cell_type": "markdown",
   "id": "6b26dd24",
   "metadata": {},
   "source": [
    "Integramos $(1)$ respecto de $x$:"
   ]
  },
  {
   "cell_type": "markdown",
   "id": "7d626495",
   "metadata": {},
   "source": [
    "$$\\phi(x,y)=\\frac{1}{2}x^2y^2+\\alpha(y)$$"
   ]
  },
  {
   "cell_type": "markdown",
   "id": "0e0645e0",
   "metadata": {},
   "source": [
    "Derivamos $\\phi$ respecto de y e igualamos a $(2)$ para encontrar $\\alpha(y)$:"
   ]
  },
  {
   "cell_type": "markdown",
   "id": "7babeeca",
   "metadata": {},
   "source": [
    "$$x^2y +\\alpha'(y) = yx^2 +1 $$"
   ]
  },
  {
   "cell_type": "markdown",
   "id": "1e28c039",
   "metadata": {},
   "source": [
    "$$\\alpha'(y) = 1 \\Rightarrow \\alpha(y)=y+c_1$$"
   ]
  },
  {
   "cell_type": "markdown",
   "id": "66c2f9a3",
   "metadata": {},
   "source": [
    "Entonces la solución general de la ecuación diferencial queda:"
   ]
  },
  {
   "cell_type": "markdown",
   "id": "9482af2e",
   "metadata": {},
   "source": [
    "$$\\frac{1}{2}x^2y^2+y = c_2$$"
   ]
  },
  {
   "cell_type": "markdown",
   "id": "a3e6996d",
   "metadata": {},
   "source": [
    "Con la condición $y(1)=0$ queda $c_2=0$ y la solución del ej queda:$$\\frac{1}{2}x^2y^2+y = 0$$"
   ]
  },
  {
   "cell_type": "markdown",
   "id": "e3b44e5c",
   "metadata": {},
   "source": [
    "#### --------------------------"
   ]
  },
  {
   "cell_type": "markdown",
   "id": "d8572000",
   "metadata": {},
   "source": [
    "Veamos un ejemplo de una E.D que no es del tipo T.E pero puede reducirse a una T.E."
   ]
  },
  {
   "cell_type": "markdown",
   "id": "728fa24c",
   "metadata": {},
   "source": [
    "$$(2y^2+3x)dx+2xydy=0$$"
   ]
  },
  {
   "cell_type": "markdown",
   "id": "ae285546",
   "metadata": {},
   "source": [
    "$$\\begin{matrix}\n",
    "P(x,y)=2y^2+3x\\hspace{10pt},\\hspace{10pt}\n",
    "P_y(x,y)=4y\\\\ \n",
    "Q(x,y)=2xy\\hspace{10pt},\\hspace{10pt}Q_x(x,y)=2y\n",
    "\\end{matrix}\\Rightarrow \\text{No es T.E}$$"
   ]
  },
  {
   "cell_type": "markdown",
   "id": "6ad09f56",
   "metadata": {},
   "source": [
    "Sea: $$\\begin{matrix}\n",
    "P(x,y)dx+Q(x,y)dy=0\\\\ \n",
    "P_y(x,y)\\neq Q_x(x,y)\n",
    "\\end{matrix}$$"
   ]
  },
  {
   "cell_type": "markdown",
   "id": "d3a90cd6",
   "metadata": {},
   "source": [
    "Supongamos que existe un factor integrante que depende de $x$: $\\mu (x)$"
   ]
  },
  {
   "cell_type": "markdown",
   "id": "16311942",
   "metadata": {},
   "source": [
    "$$\\begin{matrix}\n",
    "\\mu(x)\\left[ P(x,y)dx+Q(x,y)dy   \\right]=0\\\\ \n",
    "\\mu(x)P(x,y)dx+ \\mu(x)Q(x,y)dy = 0\n",
    "\\end{matrix}$$"
   ]
  },
  {
   "cell_type": "markdown",
   "id": "0ecf31fa",
   "metadata": {},
   "source": [
    "Para que sea una T.E se tiene que cumplir:"
   ]
  },
  {
   "cell_type": "markdown",
   "id": "f677e6e7",
   "metadata": {},
   "source": [
    "$$\\large\\begin{matrix}\n",
    "\\left [\\mu(x)Q(x,y)  \\right ]_x = \\left [ \\mu(x)P(x,y) \\right ]_y\\\\ \n",
    "\\mu'(x)Q(x,y)+\\mu(x)Q_x(x,y)= \\mu(x)P_y(x,y)\\\\ \n",
    "\\mu'(x)Q(x,y)= \\mu(x)P_y(x,y)-\\mu(x)Q_x(x,y)\\\\ \n",
    "\\mu'(x)Q(x,y)= \\mu(x)[P_y(x,y)-Q_x(x,y)]\\\\ \n",
    "\\frac{\\mu'(x)}{\\mu(x)}=\\frac{P_y(x,y)-Q_x(x,y)}{Q(x,y)}\n",
    "\\end{matrix}$$"
   ]
  },
  {
   "cell_type": "markdown",
   "id": "1adb1d75",
   "metadata": {},
   "source": [
    "Para que exista el factor integrante $\\mu(x)$ la expresión de arriba tiene que depende solo de $x$; en ese caso queda:"
   ]
  },
  {
   "cell_type": "markdown",
   "id": "fde4c3aa",
   "metadata": {},
   "source": [
    "$$\\large\\mu(x)=e^{\\int \\frac{P_y-Q_x}{Q}dx}$$"
   ]
  },
  {
   "cell_type": "markdown",
   "id": "ee6a7194",
   "metadata": {},
   "source": [
    "Entonces resolvemos el ejemplo:"
   ]
  },
  {
   "cell_type": "markdown",
   "id": "e42e3774",
   "metadata": {},
   "source": [
    "$$\\frac{P_y-Q_x}{Q} = \\frac{4y-2y}{2xy}=\\frac{2y}{2xy}=\\frac{1}{x}\\rightarrow \\text{Depende solo de x}$$"
   ]
  },
  {
   "cell_type": "markdown",
   "id": "dcfd301d",
   "metadata": {},
   "source": [
    "Luego existe el factor integrante $\\mu(x)=e^{\\int \\frac{1}{x}dx} = e^{\\ln|x|}= |x|\\Rightarrow \\mu(x)=x$"
   ]
  },
  {
   "cell_type": "markdown",
   "id": "f569f5fd",
   "metadata": {},
   "source": [
    "Planteamos la E.D de nuevo pero multiplicando por el factor integrante."
   ]
  },
  {
   "cell_type": "markdown",
   "id": "88086b32",
   "metadata": {},
   "source": [
    "$$x(2y^2+3x)dx+x2xydy=0$$"
   ]
  },
  {
   "cell_type": "markdown",
   "id": "d263a9aa",
   "metadata": {},
   "source": [
    "$$(2xy^2+3x^2)dx+2x^2ydy=0$$"
   ]
  },
  {
   "cell_type": "markdown",
   "id": "8eec9d2d",
   "metadata": {},
   "source": [
    "Ahora si derivamos $P$ y $Q$ queda:"
   ]
  },
  {
   "cell_type": "markdown",
   "id": "4df85ef0",
   "metadata": {},
   "source": [
    "$$\\begin{matrix}\n",
    "P(x,y)=2xy^2+3x^2\\hspace{10pt},\\hspace{10pt}\n",
    "P_y(x,y)=4xy\\\\ \n",
    "Q(x,y)=2x^2y\\hspace{10pt},\\hspace{10pt}Q_x(x,y)=4xy\n",
    "\\end{matrix}\\Rightarrow \\text{Si es T.E}$$"
   ]
  },
  {
   "cell_type": "markdown",
   "id": "77767af1",
   "metadata": {},
   "source": [
    "Entonces sabemos que existe una función que cumple: $$\\left\\{\\begin{matrix}\n",
    "\\phi_x(x,y)=2xy^2+3x^2\\hspace{15pt}(1)\\\\ \n",
    "\\phi_y(x,y)=2x^2y\\hspace{15pt}(2)\n",
    "\\end{matrix}\\right.$$"
   ]
  },
  {
   "cell_type": "markdown",
   "id": "69a476e9",
   "metadata": {},
   "source": [
    "Integramos $(1)$ con respecto a $x$ para hallar $\\phi(x,y)$"
   ]
  },
  {
   "cell_type": "markdown",
   "id": "52afb6d1",
   "metadata": {},
   "source": [
    "$$\\phi(x,y)=x^2y^2+x^3+\\alpha(y)$$"
   ]
  },
  {
   "cell_type": "markdown",
   "id": "3c0538ee",
   "metadata": {},
   "source": [
    "Derivamos respecto de $y$ e igualamos a $(2)$ para hallar $\\alpha(y)$"
   ]
  },
  {
   "cell_type": "markdown",
   "id": "d82557a8",
   "metadata": {},
   "source": [
    "$$2x^2y+\\alpha'(y)=2x^2y$$"
   ]
  },
  {
   "cell_type": "markdown",
   "id": "3944c86d",
   "metadata": {},
   "source": [
    "$$\\alpha'(y) = 0 \\Rightarrow \\alpha(y)=c_1$$"
   ]
  },
  {
   "cell_type": "markdown",
   "id": "134dc1f6",
   "metadata": {},
   "source": [
    "Entonces la solución general queda: $x^2y^2+x^3=c$"
   ]
  },
  {
   "cell_type": "markdown",
   "id": "46d1b672",
   "metadata": {},
   "source": [
    "##### Nota"
   ]
  },
  {
   "cell_type": "markdown",
   "id": "4ab2eb67",
   "metadata": {},
   "source": [
    "También se puede plantear un factor integrante que dependa de $\\mu(y)$ y en ese caso queda: $$\\large\\mu(y)=e^{\\int \\frac{Q_x-P_y}{P}dy}$$"
   ]
  },
  {
   "cell_type": "code",
   "execution_count": null,
   "id": "6b5e2e38",
   "metadata": {},
   "outputs": [],
   "source": []
  },
  {
   "cell_type": "markdown",
   "id": "902fd660",
   "metadata": {},
   "source": []
  },
  {
   "cell_type": "code",
   "execution_count": null,
   "id": "a413b576",
   "metadata": {},
   "outputs": [],
   "source": []
  }
 ],
 "metadata": {
  "kernelspec": {
   "display_name": "Python 3 (ipykernel)",
   "language": "python",
   "name": "python3"
  },
  "language_info": {
   "codemirror_mode": {
    "name": "ipython",
    "version": 3
   },
   "file_extension": ".py",
   "mimetype": "text/x-python",
   "name": "python",
   "nbconvert_exporter": "python",
   "pygments_lexer": "ipython3",
   "version": "3.9.7"
  }
 },
 "nbformat": 4,
 "nbformat_minor": 5
}
