{
 "cells": [
  {
   "cell_type": "markdown",
   "id": "fefe1e8a",
   "metadata": {},
   "source": [
    "# Fisica con integrales "
   ]
  },
  {
   "cell_type": "markdown",
   "id": "11f8c285",
   "metadata": {},
   "source": [
    "## Integrales de linea"
   ]
  },
  {
   "cell_type": "markdown",
   "id": "137d7f64",
   "metadata": {},
   "source": [
    "### Campo escalar"
   ]
  },
  {
   "cell_type": "markdown",
   "id": "2c6da864",
   "metadata": {},
   "source": [
    "Recordamos la definición:\n",
    "$$\\int_{C}fds=\\int_{a}^{b}f\\,[\\bar{\\sigma}\\,(t)]\\cdot||{\\bar{\\sigma}\\,}'(t)||dt$$"
   ]
  },
  {
   "cell_type": "markdown",
   "id": "28b5a286",
   "metadata": {},
   "source": [
    "#### Densidad y masa"
   ]
  },
  {
   "cell_type": "markdown",
   "id": "f7efb420",
   "metadata": {},
   "source": [
    "Conociendo la densidad lineal de un alambre $C$ $$ \\delta (x,y)=\\frac{dm}{ds}$$ "
   ]
  },
  {
   "cell_type": "markdown",
   "id": "0ea74058",
   "metadata": {},
   "source": [
    "Donde $dm = \\text{diferencial de masa}$ y $ds =\\text{diferencial de longitud}$ (volumen en una dimensión)"
   ]
  },
  {
   "cell_type": "markdown",
   "id": "f29681fd",
   "metadata": {},
   "source": [
    "Si: \n",
    "$C=Im(\\bar{\\sigma})\\hspace{5pt},\\hspace{5pt}\\bar\n",
    "{\\sigma}:[a,b]\\rightarrow \\mathbb{R}^2$"
   ]
  },
  {
   "cell_type": "markdown",
   "id": "a44048fb",
   "metadata": {},
   "source": [
    "Entonces la masa\n",
    "$$m(c) = \\int_{C}\\delta (x,y)ds$$"
   ]
  },
  {
   "cell_type": "markdown",
   "id": "fc391ed0",
   "metadata": {},
   "source": [
    "Si la curva estuviera en $\\mathbb{R}^3$:\n",
    "$$m(c) = \\int_{C}\\delta (x,y,z)ds$$"
   ]
  },
  {
   "cell_type": "markdown",
   "id": "7ef5802b",
   "metadata": {},
   "source": [
    "Es decir, la función de densidad $\\delta (x,y)$ está funcionando como nuestro campo escalar y la ecuacion $\\bar{\\sigma}\\,(t)$ del cable como la curva."
   ]
  },
  {
   "cell_type": "markdown",
   "id": "9e46fefa",
   "metadata": {},
   "source": [
    "##### Ejemplo:"
   ]
  },
  {
   "cell_type": "markdown",
   "id": "c2cf764d",
   "metadata": {},
   "source": [
    "Calcular la masa de un alambre cuya forma es de la curva intersección de las superficies $z=2-x^2-2y^2\\hspace{2pt},\\hspace{2pt} z=x^2$ entre $(0,1,0)$ y $(1,0,1) $ en el primer octante si su densidad es $\\delta (x,y,z) = kxy\\hspace{5pt},\\hspace{5pt} k>0$"
   ]
  },
  {
   "cell_type": "markdown",
   "id": "df594bcf",
   "metadata": {},
   "source": [
    "La curva está dada como intersección de dos superficies:\n",
    "$$C\\left\\{\\begin{matrix}\n",
    "z=2-x^{2}-2y^{2}\\\\ \n",
    "z=x^2\n",
    "\\end{matrix}\\right.$$"
   ]
  },
  {
   "cell_type": "markdown",
   "id": "921ca9e8",
   "metadata": {},
   "source": [
    "$x\\geq 0 \\hspace{2pt},\\hspace{2pt}y\\geq0 \\hspace{2pt},\\hspace{2pt}z\\geq0$ por estar limitado el ejercicio al primer octante"
   ]
  },
  {
   "cell_type": "markdown",
   "id": "2d25266b",
   "metadata": {},
   "source": [
    "Reemplazamos $z=0$ e igualamos las ecuaciones para hayar la proyección de la curva en el plano $xy$"
   ]
  },
  {
   "cell_type": "markdown",
   "id": "ddefacc7",
   "metadata": {},
   "source": [
    "$x^2 = 2-x^2-2y^2 \\\\\n",
    "2x^2 + 2y^2 = 2 \\\\\n",
    "x^2 + y^2 = 1$"
   ]
  },
  {
   "cell_type": "markdown",
   "id": "eff44ca7",
   "metadata": {},
   "source": [
    "Definimos una parametrización de la curva"
   ]
  },
  {
   "cell_type": "markdown",
   "id": "16f903f1",
   "metadata": {},
   "source": [
    "Para $x$ e $y$ podemos usar $\\cos (t) $ y $\\sin (t) $ y como tenemos que $z=x^2$ entonces $z=\\cos^2 (t)$"
   ]
  },
  {
   "cell_type": "markdown",
   "id": "9de55e6f",
   "metadata": {},
   "source": [
    "$$\\bar{\\sigma}\\left(t\\right) = \\left(\\cos t\\,,\\,\\sin t\\,,\\,\\cos^2 (t)\\,\\right)$$"
   ]
  },
  {
   "cell_type": "markdown",
   "id": "28947366",
   "metadata": {},
   "source": [
    "Debemos definir los limites de $t$ , para esto usamos las condiciones iniciales de los puntos donde se debe integrar."
   ]
  },
  {
   "cell_type": "markdown",
   "id": "517dd218",
   "metadata": {},
   "source": [
    "$\\left\\{\\begin{matrix}\n",
    "\\cos (t_0)=1\\\\ \n",
    "\\sin (t_0)=0\\\\\n",
    "\\cos^2 (t_0)=1\n",
    "\\end{matrix}\\right.\n",
    "\\Rightarrow t_0=0$"
   ]
  },
  {
   "cell_type": "markdown",
   "id": "6e6318b5",
   "metadata": {},
   "source": [
    "$\\left\\{\\begin{matrix}\n",
    "\\cos (t_1)=0\\\\ \n",
    "\\sin (t_1)=1\\\\\n",
    "\\cos^2 (t_1)=0\n",
    "\\end{matrix}\\right.\n",
    "\\Rightarrow t_1=\\frac{\\pi}{2} $"
   ]
  },
  {
   "cell_type": "markdown",
   "id": "420f8f4f",
   "metadata": {},
   "source": [
    "$$ 0\\leq t \\leq \\frac{\\pi}{2} $$"
   ]
  },
  {
   "cell_type": "markdown",
   "id": "52c8917c",
   "metadata": {},
   "source": [
    "Entonces una parametrización suave del arco de curva $C$ es:"
   ]
  },
  {
   "cell_type": "markdown",
   "id": "f64b8793",
   "metadata": {},
   "source": [
    "$$\\bar{\\sigma}:\\left[0,\\frac{\\pi}{2}\\right]\\rightarrow\\mathbb{R}^3\\hspace{5pt}/\\hspace{5pt}\\bar{\\sigma}\\left(t\\right) = \\left(\\cos t\\,,\\,\\sin t\\,,\\,\\cos^2 (t)\\,\\right)$$"
   ]
  },
  {
   "cell_type": "markdown",
   "id": "93e68550",
   "metadata": {},
   "source": [
    "Hallamos la derivada pues nos servirá para calcular la masa."
   ]
  },
  {
   "cell_type": "markdown",
   "id": "cac2e592",
   "metadata": {},
   "source": [
    "${\\bar{\\sigma}\\;}' (t) = \\left(-\\sin(t)\\,,\\,\\cos(t)\\,,\\,-\\sin(2t)\\,\\right)\\\\\n",
    "\\left \\| {\\bar{\\sigma}}\\,'(t) \\right \\| = \\sqrt{1+\\sin^{2}(2t)}$"
   ]
  },
  {
   "cell_type": "markdown",
   "id": "755ab0bd",
   "metadata": {},
   "source": [
    "Ahora calculamos la masa usando la integral de linea:"
   ]
  },
  {
   "cell_type": "markdown",
   "id": "08b39a80",
   "metadata": {},
   "source": [
    "$$ m(c) = \\int_{C}kxy\\cdot ds = \\int_{0}^{\\frac{\\pi}{2}}k\\cos t\\sin t \\cdot\\sqrt{1+\\sin^2 (2t)} dt$$"
   ]
  },
  {
   "cell_type": "markdown",
   "id": "f43a89ce",
   "metadata": {},
   "source": [
    "Resolviendo la integral llegamos a $$m(c) = \\frac{k^{(\\pi+2)}}{8}$$"
   ]
  },
  {
   "cell_type": "markdown",
   "id": "cc15d0c2",
   "metadata": {},
   "source": [
    "#### Coordenadas del centro de masa:"
   ]
  },
  {
   "cell_type": "markdown",
   "id": "f596486b",
   "metadata": {},
   "source": [
    "$$x_g =\\frac{\\int_{C}x\\cdot\\delta(x,y,z)\\cdot ds}{Masa} =\\frac{\\int_{C}x\\cdot\\delta(x,y,z)\\cdot ds}{\\int_{C}\\delta(x,y,z)\\cdot ds}$$"
   ]
  },
  {
   "cell_type": "markdown",
   "id": "8b90d5a5",
   "metadata": {},
   "source": [
    "$$y_g =\\frac{\\int_{C}y\\cdot\\delta(x,y,z)\\cdot ds}{Masa} =\\frac{\\int_{C}y\\cdot\\delta(x,y,z)\\cdot ds}{\\int_{C}\\delta(x,y,z)\\cdot ds}$$"
   ]
  },
  {
   "cell_type": "markdown",
   "id": "2eae7f2a",
   "metadata": {},
   "source": [
    "$$z_g =\\frac{\\int_{C}z\\cdot\\delta(x,y,z)\\cdot ds}{Masa} =\\frac{\\int_{C}z\\cdot\\delta(x,y,z)\\cdot ds}{\\int_{C}\\delta(x,y,z)\\cdot ds}$$"
   ]
  },
  {
   "cell_type": "markdown",
   "id": "5a008bb2",
   "metadata": {},
   "source": [
    "#### Momentos de inercia con respecto a los planos coordenados:"
   ]
  },
  {
   "cell_type": "markdown",
   "id": "afc44091",
   "metadata": {},
   "source": [
    "$$I_x =\\int_{C}(y^2+z^2)\\cdot\\delta(x,y,z)\\cdot ds$$"
   ]
  },
  {
   "cell_type": "markdown",
   "id": "78af0589",
   "metadata": {},
   "source": [
    "$$I_y =\\int_{C}(x^2+z^2)\\cdot\\delta(x,y,z)\\cdot ds$$"
   ]
  },
  {
   "cell_type": "markdown",
   "id": "13d44503",
   "metadata": {},
   "source": [
    "$$I_z =\\int_{C}(x^2+y^2)\\cdot\\delta(x,y,z)\\cdot ds$$"
   ]
  },
  {
   "cell_type": "markdown",
   "id": "3617c141",
   "metadata": {},
   "source": [
    "$\\hspace{1pt}$"
   ]
  },
  {
   "cell_type": "markdown",
   "id": "0c9b87fd",
   "metadata": {},
   "source": [
    "$\\hspace{1pt}$"
   ]
  },
  {
   "cell_type": "markdown",
   "id": "65fd6210",
   "metadata": {},
   "source": [
    "$\\hspace{1pt}$"
   ]
  },
  {
   "cell_type": "markdown",
   "id": "355169b1",
   "metadata": {},
   "source": [
    "### Campo vectorial"
   ]
  },
  {
   "cell_type": "markdown",
   "id": "3294ddfe",
   "metadata": {},
   "source": [
    "Se puede calcular el trabajo $W$ de un campo de fuerzas $\\bar{F}$ a lo largo de una curva $C=Im(\\bar{\\sigma})$ con la integral."
   ]
  },
  {
   "cell_type": "markdown",
   "id": "7ce10a2b",
   "metadata": {},
   "source": [
    "Recordamos la definición: $$W = \\int_{C}\\bar{F}\\cdot\\bar{ds}=\\int_{a}^{b}\\bar{F}\\,[\\bar{\\sigma}\\,(t)]\\cdot||{\\bar{\\sigma}\\,}'(t)||dt$$"
   ]
  },
  {
   "cell_type": "markdown",
   "id": "caea534d",
   "metadata": {},
   "source": [
    "### Campo conservativos"
   ]
  },
  {
   "cell_type": "markdown",
   "id": "c5053f7c",
   "metadata": {},
   "source": [
    "Un campo $\\bar{F}$ es conservativo cuando es un campo de gradientes."
   ]
  },
  {
   "cell_type": "markdown",
   "id": "40748709",
   "metadata": {},
   "source": [
    "Se dice que $\\bar{F}$ es un campo de gradientes en $H$ si existe un campo escalar $\\phi : H\\subset\\mathbb{R}^{n}\\rightarrow\\mathbb{R} , \\hspace{5pt} \\phi \\in Dif(H)$ tal que: $\\bar{F}=\\bigtriangledown\\phi$"
   ]
  },
  {
   "cell_type": "markdown",
   "id": "e6e008ab",
   "metadata": {},
   "source": [
    "Se cumplen las siguientes dos condiciones: $$\\oint_{C}\\bar{F}\\cdot\\bar{ds} = 0  \\hspace{15pt} \\forall \\, C\\hspace{5pt} \\text{cerrada}$$ "
   ]
  },
  {
   "cell_type": "markdown",
   "id": "0fa5448e",
   "metadata": {},
   "source": [
    "$$\\int_{C_1}\\bar{F}\\cdot\\bar{ds} = \\int_{C_2}\\bar{F}\\cdot\\bar{ds}\\hspace{15pt} \\forall \\, C_1 , C_2 \\hspace{5pt} \\text{con extremos inicial y final iguales}$$ "
   ]
  },
  {
   "cell_type": "markdown",
   "id": "b9bcec77",
   "metadata": {},
   "source": [
    "## Integrales dobles"
   ]
  },
  {
   "cell_type": "markdown",
   "id": "4cffe782",
   "metadata": {},
   "source": [
    "Dado un campo escalar $f(x,y) \\geq 0 \\hspace{15pt} \\forall (x,y) \\in R$"
   ]
  },
  {
   "cell_type": "markdown",
   "id": "abed4517",
   "metadata": {},
   "source": [
    "**Ya no tenemos un alambre $C$ sino una región $R$**"
   ]
  },
  {
   "cell_type": "markdown",
   "id": "dd2f10da",
   "metadata": {},
   "source": [
    "Entonces: $$Vol(M) =\\iint_{R} f(x,y) dx dy $$"
   ]
  },
  {
   "cell_type": "markdown",
   "id": "de4bcbde",
   "metadata": {},
   "source": [
    "Con $M$ el macizo tal que: $$M = \\left \\{ (x,y,z)\\in \\mathbb{R}^3 :(x,y) \\in R \\;\\;\\wedge\\;\\; 0\\leq z\\leq f(x,y)           \\right \\}$$"
   ]
  },
  {
   "cell_type": "markdown",
   "id": "6648cc23",
   "metadata": {},
   "source": [
    "Además si tenemos una función de densidad $\\delta (x,y)=f(x,y)$"
   ]
  },
  {
   "cell_type": "markdown",
   "id": "d80e9921",
   "metadata": {},
   "source": [
    "Entonces: $$Masa(R) =\\iint_{R}\\delta (x,y) dx dy $$"
   ]
  },
  {
   "cell_type": "markdown",
   "id": "15411682",
   "metadata": {},
   "source": [
    "#### Coordenadas del centro de masa:"
   ]
  },
  {
   "cell_type": "markdown",
   "id": "92d8e30e",
   "metadata": {},
   "source": [
    "$$x_g =\\frac{\\iint_{R}x\\cdot\\delta (x,y) dx dy}{Masa} =\\frac{\\iint_{R}x\\cdot\\delta (x,y) dx dy}{\\iint_{R}\\delta (x,y) dx dy}$$"
   ]
  },
  {
   "cell_type": "markdown",
   "id": "5a9e8364",
   "metadata": {},
   "source": [
    "$$y_g =\\frac{\\iint_{R}y\\cdot\\delta (x,y) dx dy}{Masa} =\\frac{\\iint_{R}y\\cdot\\delta (x,y) dx dy}{\\iint_{R}\\delta (x,y) dx dy}$$"
   ]
  },
  {
   "cell_type": "markdown",
   "id": "4517f95e",
   "metadata": {},
   "source": [
    "#### Momentos de inercia:"
   ]
  },
  {
   "cell_type": "markdown",
   "id": "9399d157",
   "metadata": {},
   "source": [
    "$$I_x =\\iint_{R}y^2\\cdot\\delta (x,y) dx dy $$"
   ]
  },
  {
   "cell_type": "markdown",
   "id": "c7f2b86f",
   "metadata": {},
   "source": [
    "$$I_y =\\iint_{R}x^2\\cdot\\delta (x,y) dx dy $$"
   ]
  },
  {
   "cell_type": "markdown",
   "id": "8fb1dbbc",
   "metadata": {},
   "source": [
    "## Integrales Triples\n"
   ]
  },
  {
   "cell_type": "markdown",
   "id": "886bb55d",
   "metadata": {},
   "source": [
    "Dado un macizo $H$ $$Vol(H)= \\iiint_{H}dx\\, dy\\, dz $$"
   ]
  },
  {
   "cell_type": "markdown",
   "id": "82505bf7",
   "metadata": {},
   "source": [
    "Dada una función de densidad $f(x,y,z)=\\delta(x,y,z)$ la masa del macizo $H$ se calcula:"
   ]
  },
  {
   "cell_type": "markdown",
   "id": "29666fe0",
   "metadata": {},
   "source": [
    "$$Masa(H)= \\iiint_{H}\\delta(x,y,z)dx\\, dy\\, dz $$"
   ]
  },
  {
   "cell_type": "markdown",
   "id": "29cbc7df",
   "metadata": {},
   "source": [
    "#### Coordenadas del centro de masa:"
   ]
  },
  {
   "cell_type": "markdown",
   "id": "9e21b285",
   "metadata": {},
   "source": [
    "$$x_g =\\frac{\\iiint_{H}x\\cdot\\delta(x,y,z)\\cdot dx dy dz}{Masa} =\\frac{\\iiint_{H}x\\cdot\\delta(x,y,z)\\cdot dx dy dz}{\\iiint_{H}\\delta(x,y,z)\\cdot dx dy dz}$$"
   ]
  },
  {
   "cell_type": "markdown",
   "id": "6b8acd39",
   "metadata": {},
   "source": [
    "$$y_g =\\frac{\\iiint_{H}y\\cdot\\delta(x,y,z)\\cdot dx dy dz}{Masa} =\\frac{\\iiint_{H}x\\cdot\\delta(x,y,z)\\cdot dx dy dz}{\\iiint_{H}\\delta(x,y,z)\\cdot dx dy dz}$$"
   ]
  },
  {
   "cell_type": "markdown",
   "id": "d934a837",
   "metadata": {},
   "source": [
    "$$z_g =\\frac{\\iiint_{H}z\\cdot\\delta(x,y,z)\\cdot dx dy dz}{Masa} =\\frac{\\iiint_{H}x\\cdot\\delta(x,y,z)\\cdot dx dy dz}{\\iiint_{H}\\delta(x,y,z)\\cdot dx dy dz}$$"
   ]
  },
  {
   "cell_type": "markdown",
   "id": "f9c8702c",
   "metadata": {},
   "source": [
    "#### Momentos de inercia:"
   ]
  },
  {
   "cell_type": "markdown",
   "id": "e3ebd608",
   "metadata": {},
   "source": [
    "$$I_x =\\iiint_{H}(y^2+z^2)\\cdot\\delta (x,y,z) dx dy dz $$"
   ]
  },
  {
   "cell_type": "markdown",
   "id": "014d203f",
   "metadata": {},
   "source": [
    "$$I_y =\\iiint_{H}(x^2+z^2)\\cdot\\delta (x,y,z) dx dy dz $$"
   ]
  },
  {
   "cell_type": "markdown",
   "id": "bc9619d9",
   "metadata": {},
   "source": [
    "$$I_z =\\iiint_{H}(x^2+y^2)\\cdot\\delta (x,y,z) dx dy dz $$"
   ]
  },
  {
   "cell_type": "markdown",
   "id": "c64560ca",
   "metadata": {},
   "source": [
    "## Integrales de superficie\n"
   ]
  },
  {
   "cell_type": "markdown",
   "id": "474731a3",
   "metadata": {},
   "source": [
    "### Campo escalar"
   ]
  },
  {
   "cell_type": "markdown",
   "id": "5d13d2e8",
   "metadata": {},
   "source": [
    "Dada una función de densidad $\\delta (x,y,z) = f (x,y,z)$ y una superficie $S$ de parametrización $\\bar{T}$ : "
   ]
  },
  {
   "cell_type": "markdown",
   "id": "97b88a79",
   "metadata": {},
   "source": [
    "$$Masa (S) = \\iint_{S} \\delta(x,y,z) \\cdot dr  = \\iint_{S} \\delta[\\bar{T}(u,v)]  \\cdot ||\\bar{T}_u(u,v) \\times \\bar{T}_v(u,v) ||dudv $$"
   ]
  },
  {
   "cell_type": "markdown",
   "id": "839eb1e8",
   "metadata": {},
   "source": [
    "#### Coordenadas del centro de masa: "
   ]
  },
  {
   "cell_type": "markdown",
   "id": "beba942f",
   "metadata": {},
   "source": [
    "$$x_g =\\frac{\\iint_{S}x\\cdot\\delta(x,y,z)\\cdot dx dy dz}{Masa} =\\frac{\\iint_{S}x\\cdot\\delta(x,y,z)\\cdot dx dy dz}{\\iint_{S}\\delta(x,y,z)\\cdot dx dy dz}$$"
   ]
  },
  {
   "cell_type": "markdown",
   "id": "be1a7562",
   "metadata": {},
   "source": [
    "$$y_g =\\frac{\\iint_{S}y\\cdot\\delta(x,y,z)\\cdot dx dy dz}{Masa} =\\frac{\\iint_{S}y\\cdot\\delta(x,y,z)\\cdot dx dy dz}{\\iint_{S}\\delta(x,y,z)\\cdot dx dy dz}$$"
   ]
  },
  {
   "cell_type": "markdown",
   "id": "82a21b4e",
   "metadata": {},
   "source": [
    "$$z_g =\\frac{\\iint_{S}z\\cdot\\delta(x,y,z)\\cdot dx dy dz}{Masa} =\\frac{\\iint_{S}z\\cdot\\delta(x,y,z)\\cdot dx dy dz}{\\iint_{S}\\delta(x,y,z)\\cdot dx dy dz}$$"
   ]
  },
  {
   "cell_type": "markdown",
   "id": "90d9c900",
   "metadata": {},
   "source": [
    "### Momentos de inercia"
   ]
  },
  {
   "cell_type": "markdown",
   "id": "f64c0d20",
   "metadata": {},
   "source": [
    "$$I_x =\\iint_{S}(y^2+z^2)\\cdot\\delta (x,y,z) dx dy dz $$"
   ]
  },
  {
   "cell_type": "markdown",
   "id": "5134bdab",
   "metadata": {},
   "source": [
    "$$I_y =\\iint_{S}(x^2+z^2)\\cdot\\delta (x,y,z) dx dy dz $$"
   ]
  },
  {
   "cell_type": "markdown",
   "id": "08476525",
   "metadata": {},
   "source": [
    "$$I_z =\\iint_{S}(x^2+y^2)\\cdot\\delta (x,y,z) dx dy dz $$"
   ]
  },
  {
   "cell_type": "markdown",
   "id": "5ca9f939",
   "metadata": {},
   "source": [
    "### Campo vectorial"
   ]
  },
  {
   "cell_type": "markdown",
   "id": "652f0c8d",
   "metadata": {},
   "source": []
  }
 ],
 "metadata": {
  "kernelspec": {
   "display_name": "Python 3",
   "language": "python",
   "name": "python3"
  },
  "language_info": {
   "codemirror_mode": {
    "name": "ipython",
    "version": 3
   },
   "file_extension": ".py",
   "mimetype": "text/x-python",
   "name": "python",
   "nbconvert_exporter": "python",
   "pygments_lexer": "ipython3",
   "version": "3.8.8"
  }
 },
 "nbformat": 4,
 "nbformat_minor": 5
}
