{
 "cells": [
  {
   "cell_type": "markdown",
   "id": "093e5437",
   "metadata": {},
   "source": [
    "# Limites"
   ]
  },
  {
   "cell_type": "markdown",
   "id": "f52eb8de",
   "metadata": {},
   "source": [
    "## Limites de campos escalares"
   ]
  },
  {
   "cell_type": "markdown",
   "id": "3568d1c5",
   "metadata": {},
   "source": [
    "Sea $f: D_f \\subset \\mathbb{R} \\rightarrow \\mathbb{R}$ y sea $\\bar{x}_0$ un punto de acumulación de $D_f$ "
   ]
  },
  {
   "cell_type": "markdown",
   "id": "c311a701",
   "metadata": {},
   "source": [
    "Diremos que el número $l \\in \\mathbb{R}$ es el limite de $f$ cuando $\\bar{x}$ tiende a $\\bar{x}_0$"
   ]
  },
  {
   "cell_type": "markdown",
   "id": "1bd231f1",
   "metadata": {},
   "source": [
    "## Propiedades"
   ]
  },
  {
   "cell_type": "markdown",
   "id": "a74bd806",
   "metadata": {},
   "source": [
    "Sean $f: D_f \\subset \\mathbb{R} \\rightarrow \\mathbb{R}$ y $g: D_g \\subset \\mathbb{R} \\rightarrow \\mathbb{R}$ , $\\bar{x}_0$ pto de acumulación de $D_f$ y $D_g$"
   ]
  },
  {
   "cell_type": "markdown",
   "id": "3a5d4987",
   "metadata": {},
   "source": [
    "Y $\\lim_{\\bar{x}\\rightarrow\\bar{x}_0}f(\\bar{x}) = l_1$, $\\lim_{\\bar{x}\\rightarrow\\bar{x}_0}g(\\bar{x}) = l_2$"
   ]
  },
  {
   "cell_type": "markdown",
   "id": "7dd09320",
   "metadata": {},
   "source": [
    "1. $$\\lim_{\\bar{x}\\rightarrow\\bar{x}_0}[f(\\bar{x})+g(\\bar{x})] = l_1 + l_2$$"
   ]
  },
  {
   "cell_type": "markdown",
   "id": "6f8bae4c",
   "metadata": {},
   "source": [
    "2. $$\\lim_{\\bar{x}\\rightarrow\\bar{x}_0}kf(\\bar{x})=k \\cdot l_1$$"
   ]
  },
  {
   "cell_type": "markdown",
   "id": "6f475432",
   "metadata": {},
   "source": [
    "3. $$\\lim_{\\bar{x}\\rightarrow\\bar{x}_0}[f(\\bar{x})\\cdot g(\\bar{x})]=l_1 \\cdot l_2$$"
   ]
  },
  {
   "cell_type": "markdown",
   "id": "6c4aedb7",
   "metadata": {},
   "source": [
    "4. $$\\lim_{\\bar{x}\\rightarrow\\bar{x}_0}[\\frac{f(\\bar{x})}{g(\\bar{x})}]=\\frac{l_1}{l_2}$$"
   ]
  },
  {
   "cell_type": "markdown",
   "id": "3247ca5b",
   "metadata": {},
   "source": [
    "1 y 2 también aplican para campos vectoriales."
   ]
  },
  {
   "cell_type": "markdown",
   "id": "85878b81",
   "metadata": {},
   "source": [
    "## Funciones acotadas e infinitesimos"
   ]
  },
  {
   "cell_type": "markdown",
   "id": "e198169e",
   "metadata": {},
   "source": [
    "Si $f(x,y) = h(x,y)g(x,y)$ y $h$ es una función acotada en un $E^*(x_0,y_0)$ y $g$ es un infinitésimo en $(x_0,y_0)$ entonces:\n",
    "\n",
    "$$\n",
    "\\lim_{\\bar{x}\\rightarrow\\bar{x}_0}f(x,y) = \\lim_{\\bar{x}\\rightarrow\\bar{x}_0}h(x,y)g(x,y)=0\n",
    "$$"
   ]
  },
  {
   "cell_type": "markdown",
   "id": "90d14948",
   "metadata": {},
   "source": [
    "## Funciones acotadas"
   ]
  },
  {
   "cell_type": "markdown",
   "id": "c528b32b",
   "metadata": {},
   "source": [
    "$\\large\\begin{matrix}\n",
    "f_1(x,y)=\\frac{x^2}{x^2+y^2}\\\\ \n",
    "f_2(x,y)=\\frac{x}{\\sqrt{x^2+y^2}}\\\\ \n",
    "f_3(x,y)=\\frac{y}{\\sqrt{x^2+y^2}}\\\\ \n",
    "f_4(x,y)=\\frac{|x|}{\\sqrt{x^2+y^2}}\\\\ \n",
    "f_5(x,y)=\\frac{|y|}{\\sqrt{x^2+y^2}}\n",
    "\\end{matrix}$"
   ]
  },
  {
   "cell_type": "markdown",
   "id": "5fbb4009",
   "metadata": {},
   "source": [
    "## Limite importante"
   ]
  },
  {
   "cell_type": "markdown",
   "id": "9c29cf34",
   "metadata": {},
   "source": [
    "$$\\lim_{(x,y)\\rightarrow(x_0,y_0)}f(x,y)=0 \\Rightarrow \\lim_{(x,y)\\rightarrow(x_0,y_0)}\\frac{\\sin[f(x,y)]}{f(x,y)}=1$$"
   ]
  },
  {
   "cell_type": "markdown",
   "id": "1c8c6d3b",
   "metadata": {},
   "source": [
    "## Limites sucesivos o reiterados"
   ]
  },
  {
   "cell_type": "markdown",
   "id": "732eba73",
   "metadata": {},
   "source": [
    "$$l_{12} = \\lim_{y\\rightarrow y_0}\\lim_{x\\rightarrow x_0}f(x,y)=0$$"
   ]
  },
  {
   "cell_type": "markdown",
   "id": "3a6f4694",
   "metadata": {},
   "source": [
    "$$l_{21} = \\lim_{x\\rightarrow x_0}\\lim_{y\\rightarrow y_0}f(x,y)=0$$"
   ]
  },
  {
   "cell_type": "markdown",
   "id": "15fc6341",
   "metadata": {},
   "source": [
    "Si $\\exists l, \\exists l_{12}, \\exists l_{21}$ entonces $l=l_{12}=l_{21}$"
   ]
  },
  {
   "cell_type": "markdown",
   "id": "a4fd35b0",
   "metadata": {},
   "source": [
    "Nos interesa el corolario: Si $l_{12}\\neq l_{21}\\Rightarrow \\nexists l$"
   ]
  },
  {
   "cell_type": "markdown",
   "id": "a7cca49a",
   "metadata": {},
   "source": [
    "## Propiedad "
   ]
  },
  {
   "cell_type": "markdown",
   "id": "9591a769",
   "metadata": {},
   "source": [
    "Si $f(x,y)\\rightarrow l_1 $ cuando $(x,y)\\rightarrow(x_0,y_0)$ por una curva $c_1$ y $f(x,y)\\rightarrow l_2 $ cuando $(x,y)\\rightarrow(x_0,y_0)$ por una curva $c_2$ siendo $$l_1 \\neq l_2 \\Rightarrow \\nexists \\lim_{(x,y)\\rightarrow(x_0,y_0)}f (x,y)$$"
   ]
  },
  {
   "cell_type": "markdown",
   "id": "13c3d2d2",
   "metadata": {},
   "source": [
    "También podemos aproximarnos por una familia de rectas. Se los llama limites radiales $y-y_0 = m(x-x_0)$ y si el resultado del limite depende de $m$ entonces no existe el limite doble."
   ]
  },
  {
   "cell_type": "markdown",
   "id": "6b70e430",
   "metadata": {},
   "source": [
    "## Continuidad de una función en un punto"
   ]
  },
  {
   "cell_type": "markdown",
   "id": "e517a29e",
   "metadata": {},
   "source": [
    "Sea $f: D_f \\subset \\mathbb{R}^n \\rightarrow \\mathbb{R}$ y $\\bar{x}_0$ pto de acumulación del dominio $D_f$"
   ]
  },
  {
   "cell_type": "markdown",
   "id": "1deab1b1",
   "metadata": {},
   "source": [
    "$f$ es continua en $\\bar{x}_0$ $\\Leftrightarrow \\lim_{\\bar{x}\\rightarrow \\bar{x}_0} f(\\bar{x})=f(\\bar{x}_0)$"
   ]
  },
  {
   "cell_type": "markdown",
   "id": "74e11fb0",
   "metadata": {},
   "source": [
    "$f$ es continua en un conjunto si es continua en cada punto del conjunto."
   ]
  },
  {
   "cell_type": "markdown",
   "id": "673a5c4d",
   "metadata": {},
   "source": [
    "$f: D_f \\subset \\mathbb{R}^n \\rightarrow \\mathbb{R}$, $g: D_g \\subset \\mathbb{R}^n \\rightarrow \\mathbb{R}$  dos campos escalares continuos en $\\bar{x}_0$ entonces:"
   ]
  },
  {
   "cell_type": "markdown",
   "id": "afcee4a4",
   "metadata": {},
   "source": [
    "1. $f+g$ es continua en $\\bar{x}_0$\n",
    "2. $f\\cdot g$ es continua en $\\bar{x}_0$\n",
    "3. $\\frac{f}{g}$ es continua $g(\\bar{x}_0)\\neq 0$"
   ]
  },
  {
   "cell_type": "markdown",
   "id": "aa8bde90",
   "metadata": {},
   "source": [
    "Las funciones polinomicas son continuas, con dominios adecuados la composición de funciones continuas es continua."
   ]
  },
  {
   "cell_type": "markdown",
   "id": "66a227ac",
   "metadata": {},
   "source": [
    "## Clasifciacion de discontinuidades"
   ]
  },
  {
   "cell_type": "markdown",
   "id": "24e75c00",
   "metadata": {},
   "source": [
    "Si existe el limite pero no es igual a la imagen entonces la discontinuidad es **evitable**"
   ]
  },
  {
   "cell_type": "markdown",
   "id": "021e438c",
   "metadata": {},
   "source": [
    "Si no existe el limite entonces la discontinuidad es **esencial**"
   ]
  }
 ],
 "metadata": {
  "kernelspec": {
   "display_name": "Python 3",
   "language": "python",
   "name": "python3"
  },
  "language_info": {
   "codemirror_mode": {
    "name": "ipython",
    "version": 3
   },
   "file_extension": ".py",
   "mimetype": "text/x-python",
   "name": "python",
   "nbconvert_exporter": "python",
   "pygments_lexer": "ipython3",
   "version": "3.8.8"
  }
 },
 "nbformat": 4,
 "nbformat_minor": 5
}
