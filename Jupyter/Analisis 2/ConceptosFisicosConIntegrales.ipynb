{
 "cells": [
  {
   "cell_type": "markdown",
   "source": [
    "# Fisica con integrales "
   ],
   "metadata": {}
  },
  {
   "cell_type": "markdown",
   "source": [
    "## Integrales de linea"
   ],
   "metadata": {}
  },
  {
   "cell_type": "markdown",
   "source": [
    "### Campo escalar"
   ],
   "metadata": {}
  },
  {
   "cell_type": "markdown",
   "source": [
    "Recordamos la definición:\n",
    "$$\\int_{C}fds=\\int_{a}^{b}f\\,[\\bar{\\sigma}\\,(t)]\\cdot||{\\bar{\\sigma}\\,}'(t)||dt$$"
   ],
   "metadata": {}
  },
  {
   "cell_type": "markdown",
   "source": [
    "#### Densidad y masa"
   ],
   "metadata": {}
  },
  {
   "cell_type": "markdown",
   "source": [
    "Conociendo la densidad lineal de un alambre $C$ $$ \\delta (x,y)=\\frac{dm}{ds}$$ "
   ],
   "metadata": {}
  },
  {
   "cell_type": "markdown",
   "source": [
    "Donde $dm = \\text{diferencial de masa}$ y $ds =\\text{diferencial de longitud}$ (volumen en una dimensión)"
   ],
   "metadata": {}
  },
  {
   "cell_type": "markdown",
   "source": [
    "Si: \n",
    "$C=Im(\\bar{\\sigma})\\hspace{5pt},\\hspace{5pt}\\bar\n",
    "{\\sigma}:[a,b]\\rightarrow \\mathbb{R}^2$"
   ],
   "metadata": {}
  },
  {
   "cell_type": "markdown",
   "source": [
    "Entonces la masa\n",
    "$$m(c) = \\int_{C}\\delta (x,y)ds$$"
   ],
   "metadata": {}
  },
  {
   "cell_type": "markdown",
   "source": [
    "Si la curva estuviera en $\\mathbb{R}^3$:\n",
    "$$m(c) = \\int_{C}\\delta (x,y,z)ds$$"
   ],
   "metadata": {}
  },
  {
   "cell_type": "markdown",
   "source": [
    "Es decir, la función de densidad $\\delta (x,y)$ está funcionando como nuestro campo escalar y la ecuacion $\\bar{\\sigma}\\,(t)$ del cable como la curva."
   ],
   "metadata": {}
  },
  {
   "cell_type": "markdown",
   "source": [
    "##### Ejemplo:"
   ],
   "metadata": {}
  },
  {
   "cell_type": "markdown",
   "source": [
    "Calcular la masa de un alambre cuya forma es de la curva intersección de las superficies $z=2-x^2-2y^2\\hspace{2pt},\\hspace{2pt} z=x^2$ entre $(0,1,0)$ y $(1,0,1) $ en el primer octante si su densidad es $\\delta (x,y,z) = kxy\\hspace{5pt},\\hspace{5pt} k>0$"
   ],
   "metadata": {}
  },
  {
   "cell_type": "markdown",
   "source": [
    "La curva está dada como intersección de dos superficies:\n",
    "$$C\\left\\{\\begin{matrix}\n",
    "z=2-x^{2}-2y^{2}\\\\ \n",
    "z=x^2\n",
    "\\end{matrix}\\right.$$"
   ],
   "metadata": {}
  },
  {
   "cell_type": "markdown",
   "source": [
    "$x\\geq 0 \\hspace{2pt},\\hspace{2pt}y\\geq0 \\hspace{2pt},\\hspace{2pt}z\\geq0$ por estar limitado el ejercicio al primer octante"
   ],
   "metadata": {}
  },
  {
   "cell_type": "markdown",
   "source": [
    "Reemplazamos $z=0$ e igualamos las ecuaciones para hayar la proyección de la curva en el plano $xy$"
   ],
   "metadata": {}
  },
  {
   "cell_type": "markdown",
   "source": [
    "$x^2 = 2-x^2-2y^2 \\\\\n",
    "2x^2 + 2y^2 = 2 \\\\\n",
    "x^2 + y^2 = 1$"
   ],
   "metadata": {}
  },
  {
   "cell_type": "markdown",
   "source": [
    "Definimos una parametrización de la curva"
   ],
   "metadata": {}
  },
  {
   "cell_type": "markdown",
   "source": [
    "Para $x$ e $y$ podemos usar $\\cos (t) $ y $\\sin (t) $ y como tenemos que $z=x^2$ entonces $z=\\cos^2 (t)$"
   ],
   "metadata": {}
  },
  {
   "cell_type": "markdown",
   "source": [
    "$$\\bar{\\sigma}\\left(t\\right) = \\left(\\cos t\\,,\\,\\sin t\\,,\\,\\cos^2 (t)\\,\\right)$$"
   ],
   "metadata": {}
  },
  {
   "cell_type": "markdown",
   "source": [
    "Debemos definir los limites de $t$ , para esto usamos las condiciones iniciales de los puntos donde se debe integrar."
   ],
   "metadata": {}
  },
  {
   "cell_type": "markdown",
   "source": [
    "$\\left\\{\\begin{matrix}\n",
    "\\cos (t_0)=1\\\\ \n",
    "\\sin (t_0)=0\\\\\n",
    "\\cos^2 (t_0)=1\n",
    "\\end{matrix}\\right.\n",
    "\\Rightarrow t_0=0$"
   ],
   "metadata": {}
  },
  {
   "cell_type": "markdown",
   "source": [
    "$\\left\\{\\begin{matrix}\n",
    "\\cos (t_1)=0\\\\ \n",
    "\\sin (t_1)=1\\\\\n",
    "\\cos^2 (t_1)=0\n",
    "\\end{matrix}\\right.\n",
    "\\Rightarrow t_1=\\frac{\\pi}{2} $"
   ],
   "metadata": {}
  },
  {
   "cell_type": "markdown",
   "source": [
    "$$ 0\\leq t \\leq \\frac{\\pi}{2} $$"
   ],
   "metadata": {}
  },
  {
   "cell_type": "markdown",
   "source": [
    "Entonces una parametrización suave del arco de curva $C$ es:"
   ],
   "metadata": {}
  },
  {
   "cell_type": "markdown",
   "source": [
    "$$\\bar{\\sigma}:\\left[0,\\frac{\\pi}{2}\\right]\\rightarrow\\mathbb{R}^3\\hspace{5pt}/\\hspace{5pt}\\bar{\\sigma}\\left(t\\right) = \\left(\\cos t\\,,\\,\\sin t\\,,\\,\\cos^2 (t)\\,\\right)$$"
   ],
   "metadata": {}
  },
  {
   "cell_type": "markdown",
   "source": [
    "Hallamos la derivada pues nos servirá para calcular la masa."
   ],
   "metadata": {}
  },
  {
   "cell_type": "markdown",
   "source": [
    "${\\bar{\\sigma}\\;}' (t) = \\left(-\\sin(t)\\,,\\,\\cos(t)\\,,\\,-\\sin(2t)\\,\\right)\\\\\n",
    "\\left \\| {\\bar{\\sigma}}\\,'(t) \\right \\| = \\sqrt{1+\\sin^{2}(2t)}$"
   ],
   "metadata": {}
  },
  {
   "cell_type": "markdown",
   "source": [
    "Ahora calculamos la masa usando la integral de linea:"
   ],
   "metadata": {}
  },
  {
   "cell_type": "markdown",
   "source": [
    "$$ m(c) = \\int_{C}kxy\\cdot ds = \\int_{0}^{\\frac{\\pi}{2}}k\\cos t\\sin t \\cdot\\sqrt{1+\\sin^2 (2t)} dt$$"
   ],
   "metadata": {}
  },
  {
   "cell_type": "markdown",
   "source": [
    "Resolviendo la integral llegamos a $$m(c) = \\frac{k^{(\\pi+2)}}{8}$$"
   ],
   "metadata": {}
  },
  {
   "cell_type": "markdown",
   "source": [
    "#### Coordenadas del centro de masa:"
   ],
   "metadata": {}
  },
  {
   "cell_type": "markdown",
   "source": [
    "$$x_g =\\frac{\\int_{C}x\\cdot\\delta(x,y,z)\\cdot ds}{Masa} =\\frac{\\int_{C}x\\cdot\\delta(x,y,z)\\cdot ds}{\\int_{C}\\delta(x,y,z)\\cdot ds}$$"
   ],
   "metadata": {}
  },
  {
   "cell_type": "markdown",
   "source": [
    "$$y_g =\\frac{\\int_{C}y\\cdot\\delta(x,y,z)\\cdot ds}{Masa} =\\frac{\\int_{C}y\\cdot\\delta(x,y,z)\\cdot ds}{\\int_{C}\\delta(x,y,z)\\cdot ds}$$"
   ],
   "metadata": {}
  },
  {
   "cell_type": "markdown",
   "source": [
    "$$z_g =\\frac{\\int_{C}z\\cdot\\delta(x,y,z)\\cdot ds}{Masa} =\\frac{\\int_{C}z\\cdot\\delta(x,y,z)\\cdot ds}{\\int_{C}\\delta(x,y,z)\\cdot ds}$$"
   ],
   "metadata": {}
  },
  {
   "cell_type": "markdown",
   "source": [
    "#### Momentos de inercia con respecto a los planos coordenados:"
   ],
   "metadata": {}
  },
  {
   "cell_type": "markdown",
   "source": [
    "$$I_x =\\int_{C}(y^2+z^2)\\cdot\\delta(x,y,z)\\cdot ds$$"
   ],
   "metadata": {}
  },
  {
   "cell_type": "markdown",
   "source": [
    "$$I_y =\\int_{C}(x^2+z^2)\\cdot\\delta(x,y,z)\\cdot ds$$"
   ],
   "metadata": {}
  },
  {
   "cell_type": "markdown",
   "source": [
    "$$I_z =\\int_{C}(x^2+y^2)\\cdot\\delta(x,y,z)\\cdot ds$$"
   ],
   "metadata": {}
  },
  {
   "cell_type": "markdown",
   "source": [
    "$\\hspace{1pt}$"
   ],
   "metadata": {}
  },
  {
   "cell_type": "markdown",
   "source": [
    "$\\hspace{1pt}$"
   ],
   "metadata": {}
  },
  {
   "cell_type": "markdown",
   "source": [
    "$\\hspace{1pt}$"
   ],
   "metadata": {}
  },
  {
   "cell_type": "markdown",
   "source": [
    "### Campo vectorial"
   ],
   "metadata": {}
  },
  {
   "cell_type": "markdown",
   "source": [
    "Se puede calcular el trabajo $W$ de un campo de fuerzas $\\bar{F}$ a lo largo de una curva $C=Im(\\bar{\\sigma})$ con la integral."
   ],
   "metadata": {}
  },
  {
   "cell_type": "markdown",
   "source": [
    "Recordamos la definición: $$W = \\int_{C}\\bar{F}\\cdot\\bar{ds}=\\int_{a}^{b}\\bar{F}\\,[\\bar{\\sigma}\\,(t)]\\cdot||{\\bar{\\sigma}\\,}'(t)||dt$$"
   ],
   "metadata": {}
  },
  {
   "cell_type": "markdown",
   "source": [
    "### Campo conservativos"
   ],
   "metadata": {}
  },
  {
   "cell_type": "markdown",
   "source": [
    "Un campo $\\bar{F}$ es conservativo cuando es un campo de gradientes."
   ],
   "metadata": {}
  },
  {
   "cell_type": "markdown",
   "source": [
    "Se dice que $\\bar{F}$ es un campo de gradientes en $H$ si existe un campo escalar $\\phi : H\\subset\\mathbb{R}^{n}\\rightarrow\\mathbb{R} , \\hspace{5pt} \\phi \\in Dif(H)$ tal que: $\\bar{F}=\\bigtriangledown\\phi$"
   ],
   "metadata": {}
  },
  {
   "cell_type": "markdown",
   "source": [
    "Se cumplen las siguientes dos condiciones: $$\\oint_{C}\\bar{F}\\cdot\\bar{ds} = 0  \\hspace{15pt} \\forall \\, C\\hspace{5pt} \\text{cerrada}$$ "
   ],
   "metadata": {}
  },
  {
   "cell_type": "markdown",
   "source": [
    "$$\\int_{C_1}\\bar{F}\\cdot\\bar{ds} = \\int_{C_2}\\bar{F}\\cdot\\bar{ds}\\hspace{15pt} \\forall \\, C_1 , C_2 \\hspace{5pt} \\text{con extremos inicial y final iguales}$$ "
   ],
   "metadata": {}
  },
  {
   "cell_type": "markdown",
   "source": [
    "## Integrales dobles"
   ],
   "metadata": {}
  },
  {
   "cell_type": "markdown",
   "source": [
    "Dado un campo escalar $f(x,y) \\geq 0 \\hspace{15pt} \\forall (x,y) \\in R$"
   ],
   "metadata": {}
  },
  {
   "cell_type": "markdown",
   "source": [
    "**Ya no tenemos un alambre $C$ sino una región $R$**"
   ],
   "metadata": {}
  },
  {
   "cell_type": "markdown",
   "source": [
    "Entonces: $$Vol(M) =\\iint_{R} f(x,y) dx dy $$"
   ],
   "metadata": {}
  },
  {
   "cell_type": "markdown",
   "source": [
    "Con $M$ el macizo tal que: $$M = \\left \\{ (x,y,z)\\in \\mathbb{R}^3 :(x,y) \\in R \\;\\;\\wedge\\;\\; 0\\leq z\\leq f(x,y)           \\right \\}$$"
   ],
   "metadata": {}
  },
  {
   "cell_type": "markdown",
   "source": [
    "Además si tenemos una función de densidad $\\delta (x,y)=f(x,y)$"
   ],
   "metadata": {}
  },
  {
   "cell_type": "markdown",
   "source": [
    "Entonces: $$Masa(R) =\\iint_{R}\\delta (x,y) dx dy $$"
   ],
   "metadata": {}
  },
  {
   "cell_type": "markdown",
   "source": [
    "#### Coordenadas del centro de masa:"
   ],
   "metadata": {}
  },
  {
   "cell_type": "markdown",
   "source": [
    "$$x_g =\\frac{\\iint_{R}x\\cdot\\delta (x,y) dx dy}{Masa} =\\frac{\\iint_{R}x\\cdot\\delta (x,y) dx dy}{\\iint_{R}\\delta (x,y) dx dy}$$"
   ],
   "metadata": {}
  },
  {
   "cell_type": "markdown",
   "source": [
    "$$y_g =\\frac{\\iint_{R}y\\cdot\\delta (x,y) dx dy}{Masa} =\\frac{\\iint_{R}y\\cdot\\delta (x,y) dx dy}{\\iint_{R}\\delta (x,y) dx dy}$$"
   ],
   "metadata": {}
  },
  {
   "cell_type": "markdown",
   "source": [
    "#### Momentos de inercia:"
   ],
   "metadata": {}
  },
  {
   "cell_type": "markdown",
   "source": [
    "$$I_x =\\iint_{R}y^2\\cdot\\delta (x,y) dx dy $$"
   ],
   "metadata": {}
  },
  {
   "cell_type": "markdown",
   "source": [
    "$$I_y =\\iint_{R}x^2\\cdot\\delta (x,y) dx dy $$"
   ],
   "metadata": {}
  },
  {
   "cell_type": "markdown",
   "source": [
    "## Integrales Triples\n"
   ],
   "metadata": {}
  },
  {
   "cell_type": "markdown",
   "source": [
    "Dado un macizo $H$ $$Vol(H)= \\iiint_{H}dx\\, dy\\, dz $$"
   ],
   "metadata": {}
  },
  {
   "cell_type": "markdown",
   "source": [
    "Dada una función de densidad $f(x,y,z)=\\delta(x,y,z)$ la masa del macizo $H$ se calcula:"
   ],
   "metadata": {}
  },
  {
   "cell_type": "markdown",
   "source": [
    "$$Masa(H)= \\iiint_{H}\\delta(x,y,z)dx\\, dy\\, dz $$"
   ],
   "metadata": {}
  },
  {
   "cell_type": "markdown",
   "source": [
    "#### Coordenadas del centro de masa:"
   ],
   "metadata": {}
  },
  {
   "cell_type": "markdown",
   "source": [
    "$$x_g =\\frac{\\iiint_{H}x\\cdot\\delta(x,y,z)\\cdot dx dy dz}{Masa} =\\frac{\\iiint_{H}x\\cdot\\delta(x,y,z)\\cdot dx dy dz}{\\iiint_{H}\\delta(x,y,z)\\cdot dx dy dz}$$"
   ],
   "metadata": {}
  },
  {
   "cell_type": "markdown",
   "source": [
    "$$y_g =\\frac{\\iiint_{H}y\\cdot\\delta(x,y,z)\\cdot dx dy dz}{Masa} =\\frac{\\iiint_{H}x\\cdot\\delta(x,y,z)\\cdot dx dy dz}{\\iiint_{H}\\delta(x,y,z)\\cdot dx dy dz}$$"
   ],
   "metadata": {}
  },
  {
   "cell_type": "markdown",
   "source": [
    "$$z_g =\\frac{\\iiint_{H}z\\cdot\\delta(x,y,z)\\cdot dx dy dz}{Masa} =\\frac{\\iiint_{H}x\\cdot\\delta(x,y,z)\\cdot dx dy dz}{\\iiint_{H}\\delta(x,y,z)\\cdot dx dy dz}$$"
   ],
   "metadata": {}
  },
  {
   "cell_type": "markdown",
   "source": [
    "#### Momentos de inercia:"
   ],
   "metadata": {}
  },
  {
   "cell_type": "markdown",
   "source": [
    "$$I_x =\\iiint_{H}(y^2+z^2)\\cdot\\delta (x,y,z) dx dy dz $$"
   ],
   "metadata": {}
  },
  {
   "cell_type": "markdown",
   "source": [
    "$$I_y =\\iiint_{H}(x^2+z^2)\\cdot\\delta (x,y,z) dx dy dz $$"
   ],
   "metadata": {}
  },
  {
   "cell_type": "markdown",
   "source": [
    "$$I_z =\\iiint_{H}(x^2+y^2)\\cdot\\delta (x,y,z) dx dy dz $$"
   ],
   "metadata": {}
  },
  {
   "cell_type": "markdown",
   "source": [
    "## Integrales de superficie\n"
   ],
   "metadata": {}
  },
  {
   "cell_type": "markdown",
   "source": [
    "### Campo escalar"
   ],
   "metadata": {}
  },
  {
   "cell_type": "markdown",
   "source": [
    "Dada una función de densidad $\\delta (x,y,z) = f (x,y,z)$ y una superficie $S$ de parametrización $\\bar{T}$ : "
   ],
   "metadata": {}
  },
  {
   "cell_type": "markdown",
   "source": [
    "$$Masa (S) = \\iint_{S} \\delta(x,y,z) \\cdot dr  = \\iint_{S} \\delta[\\bar{T}(u,v)]  \\cdot ||\\bar{T}_u(u,v) \\times \\bar{T}_v(u,v) ||dudv $$"
   ],
   "metadata": {}
  },
  {
   "cell_type": "markdown",
   "source": [
    "#### Coordenadas del centro de masa: "
   ],
   "metadata": {}
  },
  {
   "cell_type": "markdown",
   "source": [
    "$$x_g =\\frac{\\iint_{S}x\\cdot\\delta(x,y,z)\\cdot dx dy dz}{Masa} =\\frac{\\iint_{S}x\\cdot\\delta(x,y,z)\\cdot dx dy dz}{\\iint_{S}\\delta(x,y,z)\\cdot dx dy dz}$$"
   ],
   "metadata": {}
  },
  {
   "cell_type": "markdown",
   "source": [
    "$$y_g =\\frac{\\iint_{S}y\\cdot\\delta(x,y,z)\\cdot dx dy dz}{Masa} =\\frac{\\iint_{S}y\\cdot\\delta(x,y,z)\\cdot dx dy dz}{\\iint_{S}\\delta(x,y,z)\\cdot dx dy dz}$$"
   ],
   "metadata": {}
  },
  {
   "cell_type": "markdown",
   "source": [
    "$$z_g =\\frac{\\iint_{S}z\\cdot\\delta(x,y,z)\\cdot dx dy dz}{Masa} =\\frac{\\iint_{S}z\\cdot\\delta(x,y,z)\\cdot dx dy dz}{\\iint_{S}\\delta(x,y,z)\\cdot dx dy dz}$$"
   ],
   "metadata": {}
  },
  {
   "cell_type": "markdown",
   "source": [
    "### Momentos de inercia"
   ],
   "metadata": {}
  },
  {
   "cell_type": "markdown",
   "source": [
    "$$I_x =\\iint_{S}(y^2+z^2)\\cdot\\delta (x,y,z) dx dy dz $$"
   ],
   "metadata": {}
  },
  {
   "cell_type": "markdown",
   "source": [
    "$$I_y =\\iint_{S}(x^2+z^2)\\cdot\\delta (x,y,z) dx dy dz $$"
   ],
   "metadata": {}
  },
  {
   "cell_type": "markdown",
   "source": [
    "$$I_z =\\iint_{S}(x^2+y^2)\\cdot\\delta (x,y,z) dx dy dz $$"
   ],
   "metadata": {}
  },
  {
   "cell_type": "markdown",
   "source": [
    "### Campo vectorial"
   ],
   "metadata": {}
  },
  {
   "cell_type": "markdown",
   "source": [
    "Si $\\bar{f}$ es un campo de velocidades de un fluido entonces la integral de superficie representa el flujo (caudal)."
   ],
   "metadata": {}
  },
  {
   "cell_type": "markdown",
   "source": [
    "$$\\iint_{S}\\bar{f}\\cdot \\bar{n}\\cdot dr = \\iint_{D}\\bar{f}\\left [ \\bar{T}(u,v) \\right ]\\cdot \\left ( \\bar{T}_u (u,v) \\times \\bar{T}_v (u,v) \\right ) dudv$$"
   ],
   "metadata": {}
  }
 ],
 "metadata": {
  "kernelspec": {
   "display_name": "Python 3",
   "language": "python",
   "name": "python3"
  },
  "language_info": {
   "codemirror_mode": {
    "name": "ipython",
    "version": 3
   },
   "file_extension": ".py",
   "mimetype": "text/x-python",
   "name": "python",
   "nbconvert_exporter": "python",
   "pygments_lexer": "ipython3",
   "version": "3.8.8"
  }
 },
 "nbformat": 4,
 "nbformat_minor": 5
}